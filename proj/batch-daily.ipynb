{
 "cells": [
  {
   "cell_type": "code",
   "execution_count": 55,
   "metadata": {
    "collapsed": true
   },
   "outputs": [
    {
     "name": "stdout",
     "output_type": "stream",
     "text": [
      "The dotenv extension is already loaded. To reload it, use:\n",
      "  %reload_ext dotenv\n"
     ]
    },
    {
     "name": "stderr",
     "output_type": "stream",
     "text": [
      "DeprecationWarning: distutils Version classes are deprecated. Use packaging.version instead.\n",
      "DeprecationWarning: distutils Version classes are deprecated. Use packaging.version instead.\n"
     ]
    }
   ],
   "source": [
    "import matplotlib.pyplot as plt\n",
    "import seaborn as sns\n",
    "import pandas as pd\n",
    "from datetime import datetime\n",
    "from sklearn.metrics import mean_absolute_error\n",
    "import dataframe_image as dfi\n",
    "import requests\n",
    "import hopsworks\n",
    "import joblib\n",
    "import os\n",
    "%load_ext dotenv"
   ]
  },
  {
   "cell_type": "code",
   "execution_count": 2,
   "outputs": [],
   "source": [
    "%dotenv -vo .env"
   ],
   "metadata": {
    "collapsed": false
   }
  },
  {
   "cell_type": "code",
   "execution_count": 3,
   "outputs": [],
   "source": [
    "# TODO: runs local only, add (daily) modal function export/creation"
   ],
   "metadata": {
    "collapsed": false
   }
  },
  {
   "cell_type": "code",
   "execution_count": 4,
   "outputs": [
    {
     "name": "stdout",
     "output_type": "stream",
     "text": [
      "Connected. Call `.close()` to terminate connection gracefully.\n",
      "\n",
      "Logged in to project, explore it here https://c.app.hopsworks.ai:443/p/5300\n"
     ]
    },
    {
     "name": "stderr",
     "output_type": "stream",
     "text": [
      "DeprecationWarning: the imp module is deprecated in favour of importlib; see the module's documentation for alternative uses\n"
     ]
    },
    {
     "name": "stdout",
     "output_type": "stream",
     "text": [
      "Connected. Call `.close()` to terminate connection gracefully.\n"
     ]
    }
   ],
   "source": [
    "project = hopsworks.login()\n",
    "fs = project.get_feature_store()"
   ],
   "metadata": {
    "collapsed": false
   }
  },
  {
   "cell_type": "code",
   "execution_count": 5,
   "outputs": [
    {
     "name": "stdout",
     "output_type": "stream",
     "text": [
      "2023-01-12 18:14:29,809 INFO: USE `iris_featurestore`\n",
      "2023-01-12 18:14:30,266 INFO: SELECT `fg0`.`date` `date`, `fg0`.`temperature` `temperature`, `fg0`.`demand` `demand`, `fg0`.`day` `day`, `fg0`.`month` `month`, `fg0`.`holiday` `holiday`\n",
      "FROM `iris_featurestore`.`ny_elec_1` `fg0`\n"
     ]
    },
    {
     "name": "stderr",
     "output_type": "stream",
     "text": [
      "UserWarning: pandas only support SQLAlchemy connectable(engine/connection) ordatabase string URI or sqlite3 DBAPI2 connectionother DBAPI2 objects are not tested, please consider using SQLAlchemy\n"
     ]
    },
    {
     "data": {
      "text/plain": "        date  temperature  demand  day  month  holiday\n0 2017-06-25         25.7  441658    6      6        0\n1 2019-07-17         30.8  600695    2      7        0\n2 2020-04-04         10.9  328054    5      4        0\n3 2019-10-16         15.8  387485    2     10        0\n4 2019-11-21          7.4  409803    3     11        0",
      "text/html": "<div>\n<style scoped>\n    .dataframe tbody tr th:only-of-type {\n        vertical-align: middle;\n    }\n\n    .dataframe tbody tr th {\n        vertical-align: top;\n    }\n\n    .dataframe thead th {\n        text-align: right;\n    }\n</style>\n<table border=\"1\" class=\"dataframe\">\n  <thead>\n    <tr style=\"text-align: right;\">\n      <th></th>\n      <th>date</th>\n      <th>temperature</th>\n      <th>demand</th>\n      <th>day</th>\n      <th>month</th>\n      <th>holiday</th>\n    </tr>\n  </thead>\n  <tbody>\n    <tr>\n      <th>0</th>\n      <td>2017-06-25</td>\n      <td>25.7</td>\n      <td>441658</td>\n      <td>6</td>\n      <td>6</td>\n      <td>0</td>\n    </tr>\n    <tr>\n      <th>1</th>\n      <td>2019-07-17</td>\n      <td>30.8</td>\n      <td>600695</td>\n      <td>2</td>\n      <td>7</td>\n      <td>0</td>\n    </tr>\n    <tr>\n      <th>2</th>\n      <td>2020-04-04</td>\n      <td>10.9</td>\n      <td>328054</td>\n      <td>5</td>\n      <td>4</td>\n      <td>0</td>\n    </tr>\n    <tr>\n      <th>3</th>\n      <td>2019-10-16</td>\n      <td>15.8</td>\n      <td>387485</td>\n      <td>2</td>\n      <td>10</td>\n      <td>0</td>\n    </tr>\n    <tr>\n      <th>4</th>\n      <td>2019-11-21</td>\n      <td>7.4</td>\n      <td>409803</td>\n      <td>3</td>\n      <td>11</td>\n      <td>0</td>\n    </tr>\n  </tbody>\n</table>\n</div>"
     },
     "metadata": {},
     "output_type": "display_data"
    }
   ],
   "source": [
    "# get feature group\n",
    "# TODO: we could also just read the feature view but that doesn't include the\n",
    "#  date of the latest entry. Shouldn't be a problem if both run on the same day\n",
    "#  but just to be sure we'll get the complete entry from the group (see below).\n",
    "feature_group = fs.get_feature_group(name=\"ny_elec\", version=1)\n",
    "display(feature_group.show(5))"
   ],
   "metadata": {
    "collapsed": false
   }
  },
  {
   "cell_type": "code",
   "execution_count": 6,
   "outputs": [
    {
     "name": "stdout",
     "output_type": "stream",
     "text": [
      "Connected. Call `.close()` to terminate connection gracefully.\n",
      "Downloading file ... "
     ]
    },
    {
     "name": "stderr",
     "output_type": "stream",
     "text": [
      "FutureWarning: pandas.Int64Index is deprecated and will be removed from pandas in a future version. Use pandas.Index with the appropriate dtype instead.\n"
     ]
    }
   ],
   "source": [
    "# model\n",
    "mr = project.get_model_registry()\n",
    "model = mr.get_model(\"ny_elec_model\", version=1)\n",
    "model_dir = model.download()\n",
    "model = joblib.load(model_dir + \"/ny_elec_model.pkl\")"
   ],
   "metadata": {
    "collapsed": false
   }
  },
  {
   "cell_type": "code",
   "execution_count": 7,
   "outputs": [
    {
     "name": "stdout",
     "output_type": "stream",
     "text": [
      "2023-01-12 18:14:53,303 INFO: USE `iris_featurestore`\n",
      "2023-01-12 18:14:53,814 INFO: SELECT `fg0`.`date` `date`, `fg0`.`temperature` `temperature`, `fg0`.`demand` `demand`, `fg0`.`day` `day`, `fg0`.`month` `month`, `fg0`.`holiday` `holiday`\n",
      "FROM `iris_featurestore`.`ny_elec_1` `fg0`\n"
     ]
    },
    {
     "name": "stderr",
     "output_type": "stream",
     "text": [
      "UserWarning: pandas only support SQLAlchemy connectable(engine/connection) ordatabase string URI or sqlite3 DBAPI2 connectionother DBAPI2 objects are not tested, please consider using SQLAlchemy\n"
     ]
    },
    {
     "data": {
      "text/plain": "           date  temperature  demand  day  month  holiday\n1828 2023-01-10          5.1  427763    1      1        0",
      "text/html": "<div>\n<style scoped>\n    .dataframe tbody tr th:only-of-type {\n        vertical-align: middle;\n    }\n\n    .dataframe tbody tr th {\n        vertical-align: top;\n    }\n\n    .dataframe thead th {\n        text-align: right;\n    }\n</style>\n<table border=\"1\" class=\"dataframe\">\n  <thead>\n    <tr style=\"text-align: right;\">\n      <th></th>\n      <th>date</th>\n      <th>temperature</th>\n      <th>demand</th>\n      <th>day</th>\n      <th>month</th>\n      <th>holiday</th>\n    </tr>\n  </thead>\n  <tbody>\n    <tr>\n      <th>1828</th>\n      <td>2023-01-10</td>\n      <td>5.1</td>\n      <td>427763</td>\n      <td>1</td>\n      <td>1</td>\n      <td>0</td>\n    </tr>\n  </tbody>\n</table>\n</div>"
     },
     "metadata": {},
     "output_type": "display_data"
    }
   ],
   "source": [
    "offset = 1\n",
    "X_pred = feature_group.read().tail(offset)\n",
    "display(X_pred)"
   ],
   "metadata": {
    "collapsed": false
   }
  },
  {
   "cell_type": "code",
   "execution_count": 8,
   "outputs": [
    {
     "data": {
      "text/plain": "array([434581.22], dtype=float32)"
     },
     "metadata": {},
     "output_type": "display_data"
    }
   ],
   "source": [
    "# predict and get latest (daily) feature\n",
    "y_pred = model.predict(X_pred.drop(columns=['demand', 'date']))\n",
    "display(y_pred)"
   ],
   "metadata": {
    "collapsed": false
   }
  },
  {
   "cell_type": "code",
   "execution_count": 9,
   "outputs": [
    {
     "data": {
      "text/plain": "datetime.date(2023, 1, 10)"
     },
     "metadata": {},
     "output_type": "display_data"
    }
   ],
   "source": [
    "prediction_date = X_pred.iloc[0]['date']\n",
    "prediction_date = prediction_date.date()\n",
    "display(prediction_date)"
   ],
   "metadata": {
    "collapsed": false
   }
  },
  {
   "cell_type": "code",
   "execution_count": 10,
   "outputs": [],
   "source": [
    "# get demand (forecast)\n",
    "url = ('https://api.eia.gov/v2/electricity/rto/daily-region-data/data/'\n",
    "       '?frequency=daily'\n",
    "       '&data[0]=value'\n",
    "       '&facets[respondent][]=NY'\n",
    "       '&facets[timezone][]=Eastern'\n",
    "       '&facets[type][]=DF'\n",
    "       '&sort[0][column]=period'\n",
    "       '&sort[0][direction]=desc'\n",
    "       '&offset=0'\n",
    "       '&length=5000')\n",
    "\n",
    "url = url + '&start={}&end={}&api_key={}'.format(prediction_date, prediction_date, os.environ.get('EIA_API_KEY'))"
   ],
   "metadata": {
    "collapsed": false
   }
  },
  {
   "cell_type": "code",
   "execution_count": 11,
   "outputs": [],
   "source": [
    "data = requests.get(url).json()['response']['data']"
   ],
   "metadata": {
    "collapsed": false
   }
  },
  {
   "cell_type": "code",
   "execution_count": 12,
   "outputs": [
    {
     "data": {
      "text/plain": "[{'period': '2023-01-10',\n  'respondent': 'NY',\n  'respondent-name': 'New York',\n  'type': 'DF',\n  'type-name': 'Day-ahead demand forecast',\n  'timezone': 'Eastern',\n  'timezone-description': 'Eastern',\n  'value': 414410,\n  'value-units': 'megawatthours'}]"
     },
     "metadata": {},
     "output_type": "display_data"
    }
   ],
   "source": [
    "display(data)"
   ],
   "metadata": {
    "collapsed": false
   }
  },
  {
   "cell_type": "code",
   "execution_count": 13,
   "outputs": [
    {
     "data": {
      "text/plain": "414410"
     },
     "metadata": {},
     "output_type": "display_data"
    },
    {
     "data": {
      "text/plain": "427763"
     },
     "metadata": {},
     "output_type": "display_data"
    },
    {
     "data": {
      "text/plain": "434581.22"
     },
     "metadata": {},
     "output_type": "display_data"
    }
   ],
   "source": [
    "forecast = data[0]['value']\n",
    "display(forecast)\n",
    "display(X_pred.iloc[0]['demand'])\n",
    "display(y_pred[0])"
   ],
   "metadata": {
    "collapsed": false
   }
  },
  {
   "cell_type": "code",
   "execution_count": 14,
   "outputs": [
    {
     "data": {
      "text/plain": "     prediction  actual  forecast_eia prediction_date              datetime\n0  434581.21875  427763        414410      2023-01-10  01/12/2023, 18:14:57",
      "text/html": "<div>\n<style scoped>\n    .dataframe tbody tr th:only-of-type {\n        vertical-align: middle;\n    }\n\n    .dataframe tbody tr th {\n        vertical-align: top;\n    }\n\n    .dataframe thead th {\n        text-align: right;\n    }\n</style>\n<table border=\"1\" class=\"dataframe\">\n  <thead>\n    <tr style=\"text-align: right;\">\n      <th></th>\n      <th>prediction</th>\n      <th>actual</th>\n      <th>forecast_eia</th>\n      <th>prediction_date</th>\n      <th>datetime</th>\n    </tr>\n  </thead>\n  <tbody>\n    <tr>\n      <th>0</th>\n      <td>434581.21875</td>\n      <td>427763</td>\n      <td>414410</td>\n      <td>2023-01-10</td>\n      <td>01/12/2023, 18:14:57</td>\n    </tr>\n  </tbody>\n</table>\n</div>"
     },
     "metadata": {},
     "output_type": "display_data"
    }
   ],
   "source": [
    "# DF for monitoring data\n",
    "now = datetime.now().strftime(\"%m/%d/%Y, %H:%M:%S\")\n",
    "data = {\n",
    "    'prediction': y_pred,\n",
    "    'actual': [X_pred.iloc[0]['demand']],\n",
    "    'forecast_eia': [forecast],\n",
    "    'prediction_date': [prediction_date],\n",
    "    'datetime': [now],\n",
    "}\n",
    "monitor_df = pd.DataFrame(data)\n",
    "display(monitor_df)"
   ],
   "metadata": {
    "collapsed": false
   }
  },
  {
   "cell_type": "code",
   "execution_count": 15,
   "outputs": [
    {
     "data": {
      "text/plain": "Uploading Dataframe: 0.00% |          | Rows 0/1 | Elapsed Time: 00:00 | Remaining Time: ?",
      "application/vnd.jupyter.widget-view+json": {
       "version_major": 2,
       "version_minor": 0,
       "model_id": "79199d086fd946aabc323307f2eb69bc"
      }
     },
     "metadata": {},
     "output_type": "display_data"
    },
    {
     "name": "stdout",
     "output_type": "stream",
     "text": [
      "Launching offline feature group backfill job...\n",
      "Backfill Job started successfully, you can follow the progress at \n",
      "https://c.app.hopsworks.ai/p/5300/jobs/named/ny_elec_predictions_1_offline_fg_backfill/executions\n"
     ]
    },
    {
     "data": {
      "text/plain": "(<hsfs.core.job.Job at 0x1e7ebfaf880>, None)"
     },
     "execution_count": 15,
     "metadata": {},
     "output_type": "execute_result"
    }
   ],
   "source": [
    "# create monitoring FG\n",
    "monitor_fg = fs.get_or_create_feature_group(name=\"ny_elec_predictions\",\n",
    "                                            version=1,\n",
    "                                            primary_key=[\"datetime\"],\n",
    "                                            description=\"NY Electricity Prediction/Outcome Monitoring\")\n",
    "\n",
    "monitor_fg.insert(monitor_df, write_options={\"wait_for_job\": False})"
   ],
   "metadata": {
    "collapsed": false
   }
  },
  {
   "cell_type": "code",
   "execution_count": 19,
   "outputs": [
    {
     "name": "stdout",
     "output_type": "stream",
     "text": [
      "2023-01-12 18:15:54,047 INFO: USE `iris_featurestore`\n",
      "2023-01-12 18:15:54,592 INFO: SELECT `fg0`.`prediction` `prediction`, `fg0`.`actual` `actual`, `fg0`.`forecast_eia` `forecast_eia`, `fg0`.`prediction_date` `prediction_date`, `fg0`.`datetime` `datetime`\n",
      "FROM `iris_featurestore`.`ny_elec_predictions_1` `fg0`\n"
     ]
    },
    {
     "name": "stderr",
     "output_type": "stream",
     "text": [
      "UserWarning: pandas only support SQLAlchemy connectable(engine/connection) ordatabase string URI or sqlite3 DBAPI2 connectionother DBAPI2 objects are not tested, please consider using SQLAlchemy\n"
     ]
    },
    {
     "data": {
      "text/plain": "   prediction  actual  forecast_eia prediction_date              datetime\n0   405542.53  395100        385451      2023-01-05  01/07/2023, 14:16:12\n1   434039.75  419995        408753      2023-01-09  01/11/2023, 12:36:56\n2   434581.22  427763        414410      2023-01-10  01/12/2023, 18:14:57",
      "text/html": "<div>\n<style scoped>\n    .dataframe tbody tr th:only-of-type {\n        vertical-align: middle;\n    }\n\n    .dataframe tbody tr th {\n        vertical-align: top;\n    }\n\n    .dataframe thead th {\n        text-align: right;\n    }\n</style>\n<table border=\"1\" class=\"dataframe\">\n  <thead>\n    <tr style=\"text-align: right;\">\n      <th></th>\n      <th>prediction</th>\n      <th>actual</th>\n      <th>forecast_eia</th>\n      <th>prediction_date</th>\n      <th>datetime</th>\n    </tr>\n  </thead>\n  <tbody>\n    <tr>\n      <th>0</th>\n      <td>405542.53</td>\n      <td>395100</td>\n      <td>385451</td>\n      <td>2023-01-05</td>\n      <td>01/07/2023, 14:16:12</td>\n    </tr>\n    <tr>\n      <th>1</th>\n      <td>434039.75</td>\n      <td>419995</td>\n      <td>408753</td>\n      <td>2023-01-09</td>\n      <td>01/11/2023, 12:36:56</td>\n    </tr>\n    <tr>\n      <th>2</th>\n      <td>434581.22</td>\n      <td>427763</td>\n      <td>414410</td>\n      <td>2023-01-10</td>\n      <td>01/12/2023, 18:14:57</td>\n    </tr>\n  </tbody>\n</table>\n</div>"
     },
     "metadata": {},
     "output_type": "display_data"
    }
   ],
   "source": [
    "history_df = monitor_fg.read()\n",
    "# Add our prediction to the history, as the history_df won't have it -\n",
    "# the insertion was done asynchronously, so it will take ~1 min to land on App\n",
    "# TODO: commented for now since we can wait in a notebook, remember to uncomment\n",
    "#  if running e.g. in a modal job!\n",
    "#history_df = pd.concat([history_df, monitor_df])\n",
    "display(history_df)"
   ],
   "metadata": {
    "collapsed": false
   }
  },
  {
   "cell_type": "code",
   "execution_count": 20,
   "outputs": [
    {
     "data": {
      "text/plain": "10435.166666666666"
     },
     "metadata": {},
     "output_type": "display_data"
    }
   ],
   "source": [
    "# MAE\n",
    "y_pred = history_df['prediction']\n",
    "y_test = history_df['actual']\n",
    "mean_error = mean_absolute_error(y_test, y_pred)\n",
    "display(mean_error) # in MWh\n",
    "# TODO: compute \"live\" in UI"
   ],
   "metadata": {
    "collapsed": false
   }
  },
  {
   "cell_type": "code",
   "execution_count": 21,
   "outputs": [
    {
     "data": {
      "text/plain": "Uploading: 0.000%|          | 0/37048 elapsed<00:00 remaining<?",
      "application/vnd.jupyter.widget-view+json": {
       "version_major": 2,
       "version_minor": 0,
       "model_id": "2bd9c90dba09499891e9291afc3439c8"
      }
     },
     "metadata": {},
     "output_type": "display_data"
    },
    {
     "data": {
      "text/plain": "'Resources/images/df_ny_elec_recent.png'"
     },
     "execution_count": 21,
     "metadata": {},
     "output_type": "execute_result"
    }
   ],
   "source": [
    "# create \"recents\" table for UI and upload\n",
    "dataset_api = project.get_dataset_api()\n",
    "dfi.export(history_df.tail(5), './df_ny_elec_recent.png', table_conversion='matplotlib')\n",
    "dataset_api.upload(\"./df_ny_elec_recent.png\", \"Resources/images\", overwrite=True)"
   ],
   "metadata": {
    "collapsed": false
   }
  },
  {
   "cell_type": "code",
   "execution_count": 76,
   "outputs": [
    {
     "data": {
      "text/plain": "Uploading: 0.000%|          | 0/24418 elapsed<00:00 remaining<?",
      "application/vnd.jupyter.widget-view+json": {
       "version_major": 2,
       "version_minor": 0,
       "model_id": "95f1da3c1b16462caf4998fe33fa6f34"
      }
     },
     "metadata": {},
     "output_type": "display_data"
    },
    {
     "data": {
      "text/plain": "'Resources/images/df_ny_elec_prediction.png'"
     },
     "execution_count": 76,
     "metadata": {},
     "output_type": "execute_result"
    },
    {
     "data": {
      "text/plain": "<Figure size 640x480 with 1 Axes>",
      "image/png": "[encoded data removed]"
     },
     "metadata": {},
     "output_type": "display_data"
    }
   ],
   "source": [
    "# create \"prediction\" chart for UI and upload\n",
    "data = {'label': ['Predicted demand', 'Actual demand', 'EIA forecast'],\n",
    "        'value': [monitor_df[l][0] for l in ['actual', 'prediction', 'forecast_eia']]}\n",
    "pred_df = pd.DataFrame(data)\n",
    "pred_plot = sns.barplot(data=pred_df, y='value', x='label')\n",
    "plt.ylabel('Demand [MWh]')\n",
    "plt.xlabel('')\n",
    "plt.ylim(pred_df['value'].min() - 10000, pred_df['value'].max() + 5000)\n",
    "plt.title('Predicted and actual demands for {}'.format(monitor_df['prediction_date'][0]))\n",
    "fig = pred_plot.get_figure()\n",
    "fig.savefig(\"./df_ny_elec_prediction.png\")\n",
    "dataset_api.upload(\"./df_ny_elec_prediction.png\", \"Resources/images\", overwrite=True)"
   ],
   "metadata": {
    "collapsed": false
   }
  },
  {
   "cell_type": "code",
   "execution_count": null,
   "outputs": [],
   "source": [
    "# TODO: plot (historic) MAE chart and upload"
   ],
   "metadata": {
    "collapsed": false
   }
  }
 ],
 "metadata": {
  "kernelspec": {
   "display_name": "Python 3",
   "language": "python",
   "name": "python3"
  },
  "language_info": {
   "codemirror_mode": {
    "name": "ipython",
    "version": 2
   },
   "file_extension": ".py",
   "mimetype": "text/x-python",
   "name": "python",
   "nbconvert_exporter": "python",
   "pygments_lexer": "ipython2",
   "version": "2.7.6"
  }
 },
 "nbformat": 4,
 "nbformat_minor": 0
}
