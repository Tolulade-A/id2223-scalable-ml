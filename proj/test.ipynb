{
 "cells": [
  {
   "cell_type": "code",
   "execution_count": 1,
   "metadata": {
    "collapsed": true
   },
   "outputs": [
    {
     "name": "stderr",
     "output_type": "stream",
     "text": [
      "C:\\Users\\Remo\\anaconda3\\lib\\site-packages\\xgboost\\compat.py:36: FutureWarning: pandas.Int64Index is deprecated and will be removed from pandas in a future version. Use pandas.Index with the appropriate dtype instead.\n",
      "  from pandas import MultiIndex, Int64Index\n"
     ]
    }
   ],
   "source": [
    "import pandas as pd\n",
    "import numpy as np\n",
    "import requests\n",
    "from xgboost import XGBRegressor\n",
    "from sklearn.model_selection import train_test_split\n",
    "from sklearn.model_selection import RepeatedKFold\n",
    "from sklearn.model_selection import RandomizedSearchCV\n",
    "from sklearn.impute import SimpleImputer\n",
    "from sklearn.preprocessing import MinMaxScaler\n",
    "from sklearn.preprocessing import KBinsDiscretizer\n",
    "from sklearn.pipeline import Pipeline\n",
    "from sklearn.compose import ColumnTransformer\n",
    "from sklearn.metrics import mean_absolute_error\n",
    "from matplotlib import pyplot\n",
    "from pandas.tseries.holiday import USFederalHolidayCalendar as calendar\n",
    "import os\n",
    "%load_ext dotenv"
   ]
  },
  {
   "cell_type": "code",
   "execution_count": 2,
   "outputs": [],
   "source": [
    "%dotenv -vo .env"
   ],
   "metadata": {
    "collapsed": false
   }
  },
  {
   "cell_type": "code",
   "execution_count": 3,
   "outputs": [],
   "source": [
    "url = ('https://api.eia.gov/v2/electricity/rto/daily-region-sub-ba-data/data/'\n",
    "       '?frequency=daily'\n",
    "       '&data[0]=value'\n",
    "       '&facets[subba][]=ZONJ'\n",
    "       '&facets[timezone][]=Eastern'\n",
    "       '&start=2017-01-01'\n",
    "       '&end=2021-12-31'\n",
    "       '&sort[0][column]=period'\n",
    "       '&sort[0][direction]=desc'\n",
    "       '&offset=0'\n",
    "       '&length=5000'\n",
    "       '&api_key=') + os.environ.get('EIA_API_KEY')"
   ],
   "metadata": {
    "collapsed": false
   }
  },
  {
   "cell_type": "code",
   "execution_count": 4,
   "outputs": [],
   "source": [
    "data = requests.get(url).json()['response']['data']\n",
    "data = pd.DataFrame(data)"
   ],
   "metadata": {
    "collapsed": false
   }
  },
  {
   "cell_type": "code",
   "execution_count": 5,
   "outputs": [
    {
     "data": {
      "text/plain": "       period subba     subba-name parent  \\\n0  2021-12-31  ZONJ  New York City   NYIS   \n1  2021-12-30  ZONJ  New York City   NYIS   \n2  2021-12-29  ZONJ  New York City   NYIS   \n3  2021-12-28  ZONJ  New York City   NYIS   \n4  2021-12-27  ZONJ  New York City   NYIS   \n\n                            parent-name timezone   value    value-units  \n0  New York Independent System Operator  Eastern  117546  megawatthours  \n1  New York Independent System Operator  Eastern  123116  megawatthours  \n2  New York Independent System Operator  Eastern  125574  megawatthours  \n3  New York Independent System Operator  Eastern  125714  megawatthours  \n4  New York Independent System Operator  Eastern  127916  megawatthours  ",
      "text/html": "<div>\n<style scoped>\n    .dataframe tbody tr th:only-of-type {\n        vertical-align: middle;\n    }\n\n    .dataframe tbody tr th {\n        vertical-align: top;\n    }\n\n    .dataframe thead th {\n        text-align: right;\n    }\n</style>\n<table border=\"1\" class=\"dataframe\">\n  <thead>\n    <tr style=\"text-align: right;\">\n      <th></th>\n      <th>period</th>\n      <th>subba</th>\n      <th>subba-name</th>\n      <th>parent</th>\n      <th>parent-name</th>\n      <th>timezone</th>\n      <th>value</th>\n      <th>value-units</th>\n    </tr>\n  </thead>\n  <tbody>\n    <tr>\n      <th>0</th>\n      <td>2021-12-31</td>\n      <td>ZONJ</td>\n      <td>New York City</td>\n      <td>NYIS</td>\n      <td>New York Independent System Operator</td>\n      <td>Eastern</td>\n      <td>117546</td>\n      <td>megawatthours</td>\n    </tr>\n    <tr>\n      <th>1</th>\n      <td>2021-12-30</td>\n      <td>ZONJ</td>\n      <td>New York City</td>\n      <td>NYIS</td>\n      <td>New York Independent System Operator</td>\n      <td>Eastern</td>\n      <td>123116</td>\n      <td>megawatthours</td>\n    </tr>\n    <tr>\n      <th>2</th>\n      <td>2021-12-29</td>\n      <td>ZONJ</td>\n      <td>New York City</td>\n      <td>NYIS</td>\n      <td>New York Independent System Operator</td>\n      <td>Eastern</td>\n      <td>125574</td>\n      <td>megawatthours</td>\n    </tr>\n    <tr>\n      <th>3</th>\n      <td>2021-12-28</td>\n      <td>ZONJ</td>\n      <td>New York City</td>\n      <td>NYIS</td>\n      <td>New York Independent System Operator</td>\n      <td>Eastern</td>\n      <td>125714</td>\n      <td>megawatthours</td>\n    </tr>\n    <tr>\n      <th>4</th>\n      <td>2021-12-27</td>\n      <td>ZONJ</td>\n      <td>New York City</td>\n      <td>NYIS</td>\n      <td>New York Independent System Operator</td>\n      <td>Eastern</td>\n      <td>127916</td>\n      <td>megawatthours</td>\n    </tr>\n  </tbody>\n</table>\n</div>"
     },
     "metadata": {},
     "output_type": "display_data"
    }
   ],
   "source": [
    "display(data.head(5))"
   ],
   "metadata": {
    "collapsed": false
   }
  },
  {
   "cell_type": "code",
   "execution_count": 6,
   "outputs": [
    {
     "data": {
      "text/plain": "        date  demand\n0 2021-12-31  117546\n1 2021-12-30  123116\n2 2021-12-29  125574\n3 2021-12-28  125714\n4 2021-12-27  127916",
      "text/html": "<div>\n<style scoped>\n    .dataframe tbody tr th:only-of-type {\n        vertical-align: middle;\n    }\n\n    .dataframe tbody tr th {\n        vertical-align: top;\n    }\n\n    .dataframe thead th {\n        text-align: right;\n    }\n</style>\n<table border=\"1\" class=\"dataframe\">\n  <thead>\n    <tr style=\"text-align: right;\">\n      <th></th>\n      <th>date</th>\n      <th>demand</th>\n    </tr>\n  </thead>\n  <tbody>\n    <tr>\n      <th>0</th>\n      <td>2021-12-31</td>\n      <td>117546</td>\n    </tr>\n    <tr>\n      <th>1</th>\n      <td>2021-12-30</td>\n      <td>123116</td>\n    </tr>\n    <tr>\n      <th>2</th>\n      <td>2021-12-29</td>\n      <td>125574</td>\n    </tr>\n    <tr>\n      <th>3</th>\n      <td>2021-12-28</td>\n      <td>125714</td>\n    </tr>\n    <tr>\n      <th>4</th>\n      <td>2021-12-27</td>\n      <td>127916</td>\n    </tr>\n  </tbody>\n</table>\n</div>"
     },
     "metadata": {},
     "output_type": "display_data"
    }
   ],
   "source": [
    "demand_daily = data[['period', 'value']].rename(columns={'period': 'date', 'value': 'demand'})\n",
    "demand_daily['date'] = pd.to_datetime(demand_daily['date'], infer_datetime_format=True)\n",
    "display(demand_daily.head(5))"
   ],
   "metadata": {
    "collapsed": false
   }
  },
  {
   "cell_type": "code",
   "execution_count": 7,
   "outputs": [
    {
     "data": {
      "text/plain": "date      datetime64[ns]\ndemand             int64\ndtype: object"
     },
     "metadata": {},
     "output_type": "display_data"
    }
   ],
   "source": [
    "display(demand_daily.dtypes)"
   ],
   "metadata": {
    "collapsed": false
   }
  },
  {
   "cell_type": "code",
   "execution_count": 8,
   "outputs": [
    {
     "data": {
      "text/plain": "       STATION                      NAME        DATE  TAVG\n0  USW00014732  LAGUARDIA AIRPORT, NY US  2017-01-01   8.0\n1  USW00014732  LAGUARDIA AIRPORT, NY US  2017-01-02   4.4\n2  USW00014732  LAGUARDIA AIRPORT, NY US  2017-01-03   5.6\n3  USW00014732  LAGUARDIA AIRPORT, NY US  2017-01-04   8.2\n4  USW00014732  LAGUARDIA AIRPORT, NY US  2017-01-05   1.0",
      "text/html": "<div>\n<style scoped>\n    .dataframe tbody tr th:only-of-type {\n        vertical-align: middle;\n    }\n\n    .dataframe tbody tr th {\n        vertical-align: top;\n    }\n\n    .dataframe thead th {\n        text-align: right;\n    }\n</style>\n<table border=\"1\" class=\"dataframe\">\n  <thead>\n    <tr style=\"text-align: right;\">\n      <th></th>\n      <th>STATION</th>\n      <th>NAME</th>\n      <th>DATE</th>\n      <th>TAVG</th>\n    </tr>\n  </thead>\n  <tbody>\n    <tr>\n      <th>0</th>\n      <td>USW00014732</td>\n      <td>LAGUARDIA AIRPORT, NY US</td>\n      <td>2017-01-01</td>\n      <td>8.0</td>\n    </tr>\n    <tr>\n      <th>1</th>\n      <td>USW00014732</td>\n      <td>LAGUARDIA AIRPORT, NY US</td>\n      <td>2017-01-02</td>\n      <td>4.4</td>\n    </tr>\n    <tr>\n      <th>2</th>\n      <td>USW00014732</td>\n      <td>LAGUARDIA AIRPORT, NY US</td>\n      <td>2017-01-03</td>\n      <td>5.6</td>\n    </tr>\n    <tr>\n      <th>3</th>\n      <td>USW00014732</td>\n      <td>LAGUARDIA AIRPORT, NY US</td>\n      <td>2017-01-04</td>\n      <td>8.2</td>\n    </tr>\n    <tr>\n      <th>4</th>\n      <td>USW00014732</td>\n      <td>LAGUARDIA AIRPORT, NY US</td>\n      <td>2017-01-05</td>\n      <td>1.0</td>\n    </tr>\n  </tbody>\n</table>\n</div>"
     },
     "metadata": {},
     "output_type": "display_data"
    }
   ],
   "source": [
    "# read weather data (dataset years 2017-2021 for LaGuardia from https://www.ncdc.noaa.gov/, daily summaries in climate data online)\n",
    "weather_data = pd.read_csv('./noaa_weather_lag_2017-2021.csv')\n",
    "display(weather_data.head(5))"
   ],
   "metadata": {
    "collapsed": false
   }
  },
  {
   "cell_type": "code",
   "execution_count": 9,
   "outputs": [
    {
     "data": {
      "text/plain": "        date  temperature\n0 2017-01-01          8.0\n1 2017-01-02          4.4\n2 2017-01-03          5.6\n3 2017-01-04          8.2\n4 2017-01-05          1.0",
      "text/html": "<div>\n<style scoped>\n    .dataframe tbody tr th:only-of-type {\n        vertical-align: middle;\n    }\n\n    .dataframe tbody tr th {\n        vertical-align: top;\n    }\n\n    .dataframe thead th {\n        text-align: right;\n    }\n</style>\n<table border=\"1\" class=\"dataframe\">\n  <thead>\n    <tr style=\"text-align: right;\">\n      <th></th>\n      <th>date</th>\n      <th>temperature</th>\n    </tr>\n  </thead>\n  <tbody>\n    <tr>\n      <th>0</th>\n      <td>2017-01-01</td>\n      <td>8.0</td>\n    </tr>\n    <tr>\n      <th>1</th>\n      <td>2017-01-02</td>\n      <td>4.4</td>\n    </tr>\n    <tr>\n      <th>2</th>\n      <td>2017-01-03</td>\n      <td>5.6</td>\n    </tr>\n    <tr>\n      <th>3</th>\n      <td>2017-01-04</td>\n      <td>8.2</td>\n    </tr>\n    <tr>\n      <th>4</th>\n      <td>2017-01-05</td>\n      <td>1.0</td>\n    </tr>\n  </tbody>\n</table>\n</div>"
     },
     "metadata": {},
     "output_type": "display_data"
    }
   ],
   "source": [
    "weather_daily = weather_data[['DATE', 'TAVG']].rename(columns={'DATE': 'date', 'TAVG': 'temperature'})\n",
    "weather_daily['date'] = pd.to_datetime(weather_daily['date'], infer_datetime_format=True)\n",
    "display(weather_daily.head(5))"
   ],
   "metadata": {
    "collapsed": false
   }
  },
  {
   "cell_type": "code",
   "execution_count": 10,
   "outputs": [
    {
     "data": {
      "text/plain": "date           datetime64[ns]\ntemperature           float64\ndtype: object"
     },
     "metadata": {},
     "output_type": "display_data"
    }
   ],
   "source": [
    "display(weather_daily.dtypes)"
   ],
   "metadata": {
    "collapsed": false
   }
  },
  {
   "cell_type": "code",
   "execution_count": 11,
   "outputs": [
    {
     "data": {
      "text/plain": "        date  temperature  demand\n0 2018-06-19         28.6  197017\n1 2018-06-20         24.7  176885\n2 2018-06-21         23.7  175052\n3 2018-06-22         22.4  159840\n4 2018-06-23         18.5  129943",
      "text/html": "<div>\n<style scoped>\n    .dataframe tbody tr th:only-of-type {\n        vertical-align: middle;\n    }\n\n    .dataframe tbody tr th {\n        vertical-align: top;\n    }\n\n    .dataframe thead th {\n        text-align: right;\n    }\n</style>\n<table border=\"1\" class=\"dataframe\">\n  <thead>\n    <tr style=\"text-align: right;\">\n      <th></th>\n      <th>date</th>\n      <th>temperature</th>\n      <th>demand</th>\n    </tr>\n  </thead>\n  <tbody>\n    <tr>\n      <th>0</th>\n      <td>2018-06-19</td>\n      <td>28.6</td>\n      <td>197017</td>\n    </tr>\n    <tr>\n      <th>1</th>\n      <td>2018-06-20</td>\n      <td>24.7</td>\n      <td>176885</td>\n    </tr>\n    <tr>\n      <th>2</th>\n      <td>2018-06-21</td>\n      <td>23.7</td>\n      <td>175052</td>\n    </tr>\n    <tr>\n      <th>3</th>\n      <td>2018-06-22</td>\n      <td>22.4</td>\n      <td>159840</td>\n    </tr>\n    <tr>\n      <th>4</th>\n      <td>2018-06-23</td>\n      <td>18.5</td>\n      <td>129943</td>\n    </tr>\n  </tbody>\n</table>\n</div>"
     },
     "metadata": {},
     "output_type": "display_data"
    }
   ],
   "source": [
    "df = pd.merge(weather_daily, demand_daily, how='inner', on='date')\n",
    "display(df.head(5))"
   ],
   "metadata": {
    "collapsed": false
   }
  },
  {
   "cell_type": "code",
   "execution_count": 12,
   "outputs": [
    {
     "data": {
      "text/plain": "        date  temperature  demand  day\n0 2018-06-19         28.6  197017    1\n1 2018-06-20         24.7  176885    2\n2 2018-06-21         23.7  175052    3\n3 2018-06-22         22.4  159840    4\n4 2018-06-23         18.5  129943    5",
      "text/html": "<div>\n<style scoped>\n    .dataframe tbody tr th:only-of-type {\n        vertical-align: middle;\n    }\n\n    .dataframe tbody tr th {\n        vertical-align: top;\n    }\n\n    .dataframe thead th {\n        text-align: right;\n    }\n</style>\n<table border=\"1\" class=\"dataframe\">\n  <thead>\n    <tr style=\"text-align: right;\">\n      <th></th>\n      <th>date</th>\n      <th>temperature</th>\n      <th>demand</th>\n      <th>day</th>\n    </tr>\n  </thead>\n  <tbody>\n    <tr>\n      <th>0</th>\n      <td>2018-06-19</td>\n      <td>28.6</td>\n      <td>197017</td>\n      <td>1</td>\n    </tr>\n    <tr>\n      <th>1</th>\n      <td>2018-06-20</td>\n      <td>24.7</td>\n      <td>176885</td>\n      <td>2</td>\n    </tr>\n    <tr>\n      <th>2</th>\n      <td>2018-06-21</td>\n      <td>23.7</td>\n      <td>175052</td>\n      <td>3</td>\n    </tr>\n    <tr>\n      <th>3</th>\n      <td>2018-06-22</td>\n      <td>22.4</td>\n      <td>159840</td>\n      <td>4</td>\n    </tr>\n    <tr>\n      <th>4</th>\n      <td>2018-06-23</td>\n      <td>18.5</td>\n      <td>129943</td>\n      <td>5</td>\n    </tr>\n  </tbody>\n</table>\n</div>"
     },
     "metadata": {},
     "output_type": "display_data"
    }
   ],
   "source": [
    "df['day'] = df['date'].dt.dayofweek\n",
    "display(df.head(5)) # 0=mon, ..., sun=6"
   ],
   "metadata": {
    "collapsed": false
   }
  },
  {
   "cell_type": "code",
   "execution_count": 13,
   "outputs": [
    {
     "data": {
      "text/plain": "        date  temperature  demand  day  month\n0 2018-06-19         28.6  197017    1      6\n1 2018-06-20         24.7  176885    2      6\n2 2018-06-21         23.7  175052    3      6\n3 2018-06-22         22.4  159840    4      6\n4 2018-06-23         18.5  129943    5      6",
      "text/html": "<div>\n<style scoped>\n    .dataframe tbody tr th:only-of-type {\n        vertical-align: middle;\n    }\n\n    .dataframe tbody tr th {\n        vertical-align: top;\n    }\n\n    .dataframe thead th {\n        text-align: right;\n    }\n</style>\n<table border=\"1\" class=\"dataframe\">\n  <thead>\n    <tr style=\"text-align: right;\">\n      <th></th>\n      <th>date</th>\n      <th>temperature</th>\n      <th>demand</th>\n      <th>day</th>\n      <th>month</th>\n    </tr>\n  </thead>\n  <tbody>\n    <tr>\n      <th>0</th>\n      <td>2018-06-19</td>\n      <td>28.6</td>\n      <td>197017</td>\n      <td>1</td>\n      <td>6</td>\n    </tr>\n    <tr>\n      <th>1</th>\n      <td>2018-06-20</td>\n      <td>24.7</td>\n      <td>176885</td>\n      <td>2</td>\n      <td>6</td>\n    </tr>\n    <tr>\n      <th>2</th>\n      <td>2018-06-21</td>\n      <td>23.7</td>\n      <td>175052</td>\n      <td>3</td>\n      <td>6</td>\n    </tr>\n    <tr>\n      <th>3</th>\n      <td>2018-06-22</td>\n      <td>22.4</td>\n      <td>159840</td>\n      <td>4</td>\n      <td>6</td>\n    </tr>\n    <tr>\n      <th>4</th>\n      <td>2018-06-23</td>\n      <td>18.5</td>\n      <td>129943</td>\n      <td>5</td>\n      <td>6</td>\n    </tr>\n  </tbody>\n</table>\n</div>"
     },
     "metadata": {},
     "output_type": "display_data"
    }
   ],
   "source": [
    "df['month'] = df['date'].dt.month\n",
    "display(df.head(5)) # 1=jan, ..., dec=12"
   ],
   "metadata": {
    "collapsed": false
   }
  },
  {
   "cell_type": "code",
   "execution_count": 15,
   "outputs": [
    {
     "data": {
      "text/plain": "        date  temperature  demand  day  month  holiday\n0 2018-06-19         28.6  197017    1      6        0\n1 2018-06-20         24.7  176885    2      6        0\n2 2018-06-21         23.7  175052    3      6        0\n3 2018-06-22         22.4  159840    4      6        0\n4 2018-06-23         18.5  129943    5      6        0",
      "text/html": "<div>\n<style scoped>\n    .dataframe tbody tr th:only-of-type {\n        vertical-align: middle;\n    }\n\n    .dataframe tbody tr th {\n        vertical-align: top;\n    }\n\n    .dataframe thead th {\n        text-align: right;\n    }\n</style>\n<table border=\"1\" class=\"dataframe\">\n  <thead>\n    <tr style=\"text-align: right;\">\n      <th></th>\n      <th>date</th>\n      <th>temperature</th>\n      <th>demand</th>\n      <th>day</th>\n      <th>month</th>\n      <th>holiday</th>\n    </tr>\n  </thead>\n  <tbody>\n    <tr>\n      <th>0</th>\n      <td>2018-06-19</td>\n      <td>28.6</td>\n      <td>197017</td>\n      <td>1</td>\n      <td>6</td>\n      <td>0</td>\n    </tr>\n    <tr>\n      <th>1</th>\n      <td>2018-06-20</td>\n      <td>24.7</td>\n      <td>176885</td>\n      <td>2</td>\n      <td>6</td>\n      <td>0</td>\n    </tr>\n    <tr>\n      <th>2</th>\n      <td>2018-06-21</td>\n      <td>23.7</td>\n      <td>175052</td>\n      <td>3</td>\n      <td>6</td>\n      <td>0</td>\n    </tr>\n    <tr>\n      <th>3</th>\n      <td>2018-06-22</td>\n      <td>22.4</td>\n      <td>159840</td>\n      <td>4</td>\n      <td>6</td>\n      <td>0</td>\n    </tr>\n    <tr>\n      <th>4</th>\n      <td>2018-06-23</td>\n      <td>18.5</td>\n      <td>129943</td>\n      <td>5</td>\n      <td>6</td>\n      <td>0</td>\n    </tr>\n  </tbody>\n</table>\n</div>"
     },
     "metadata": {},
     "output_type": "display_data"
    }
   ],
   "source": [
    "# add (find) bank holiday (binary mask)\n",
    "holidays = calendar().holidays(start=df['date'].min(), end=df['date'].max())\n",
    "df['holiday'] = df['date'].isin(holidays).astype(int)\n",
    "display(df.head(5))"
   ],
   "metadata": {
    "collapsed": false
   }
  },
  {
   "cell_type": "code",
   "execution_count": null,
   "outputs": [],
   "source": [
    "# TODO: store features (once prepared) somewhere (hopsworks?)"
   ],
   "metadata": {
    "collapsed": false
   }
  },
  {
   "cell_type": "code",
   "execution_count": null,
   "outputs": [],
   "source": [
    "# TODO: split feature prep from training (below) and store model somewhere once trained (hopsworks or HF?)\n",
    "# we don't have to repeat all steps done here, CV/Random search used just to find some reasonable parameters for XGB"
   ],
   "metadata": {
    "collapsed": false
   }
  },
  {
   "cell_type": "code",
   "execution_count": 16,
   "outputs": [],
   "source": [
    "seed = np.random.RandomState(65)"
   ],
   "metadata": {
    "collapsed": false
   }
  },
  {
   "cell_type": "code",
   "execution_count": 17,
   "outputs": [],
   "source": [
    "df_num = df.drop(columns=['date']) # not needed"
   ],
   "metadata": {
    "collapsed": false
   }
  },
  {
   "cell_type": "code",
   "execution_count": 18,
   "outputs": [
    {
     "data": {
      "text/plain": "   temperature  day  month  holiday\n0         28.6    1      6        0\n1         24.7    2      6        0\n2         23.7    3      6        0\n3         22.4    4      6        0\n4         18.5    5      6        0",
      "text/html": "<div>\n<style scoped>\n    .dataframe tbody tr th:only-of-type {\n        vertical-align: middle;\n    }\n\n    .dataframe tbody tr th {\n        vertical-align: top;\n    }\n\n    .dataframe thead th {\n        text-align: right;\n    }\n</style>\n<table border=\"1\" class=\"dataframe\">\n  <thead>\n    <tr style=\"text-align: right;\">\n      <th></th>\n      <th>temperature</th>\n      <th>day</th>\n      <th>month</th>\n      <th>holiday</th>\n    </tr>\n  </thead>\n  <tbody>\n    <tr>\n      <th>0</th>\n      <td>28.6</td>\n      <td>1</td>\n      <td>6</td>\n      <td>0</td>\n    </tr>\n    <tr>\n      <th>1</th>\n      <td>24.7</td>\n      <td>2</td>\n      <td>6</td>\n      <td>0</td>\n    </tr>\n    <tr>\n      <th>2</th>\n      <td>23.7</td>\n      <td>3</td>\n      <td>6</td>\n      <td>0</td>\n    </tr>\n    <tr>\n      <th>3</th>\n      <td>22.4</td>\n      <td>4</td>\n      <td>6</td>\n      <td>0</td>\n    </tr>\n    <tr>\n      <th>4</th>\n      <td>18.5</td>\n      <td>5</td>\n      <td>6</td>\n      <td>0</td>\n    </tr>\n  </tbody>\n</table>\n</div>"
     },
     "metadata": {},
     "output_type": "display_data"
    },
    {
     "data": {
      "text/plain": "0    197017\n1    176885\n2    175052\n3    159840\n4    129943\nName: demand, dtype: int64"
     },
     "metadata": {},
     "output_type": "display_data"
    }
   ],
   "source": [
    "# training/testing split (for performance estimate)\n",
    "label = 'demand'\n",
    "X = df_num.drop(columns=[label])\n",
    "y = df_num[label]\n",
    "display(X.head(5))\n",
    "display(y.head(5))"
   ],
   "metadata": {
    "collapsed": false
   }
  },
  {
   "cell_type": "code",
   "execution_count": 19,
   "outputs": [
    {
     "data": {
      "text/plain": "     temperature  day  month  holiday\n632          7.7    3      3        0\n256          1.2    5      3        0\n124         10.7    6     10        0\n529          2.9    5     11        0\n558          5.7    6     12        0",
      "text/html": "<div>\n<style scoped>\n    .dataframe tbody tr th:only-of-type {\n        vertical-align: middle;\n    }\n\n    .dataframe tbody tr th {\n        vertical-align: top;\n    }\n\n    .dataframe thead th {\n        text-align: right;\n    }\n</style>\n<table border=\"1\" class=\"dataframe\">\n  <thead>\n    <tr style=\"text-align: right;\">\n      <th></th>\n      <th>temperature</th>\n      <th>day</th>\n      <th>month</th>\n      <th>holiday</th>\n    </tr>\n  </thead>\n  <tbody>\n    <tr>\n      <th>632</th>\n      <td>7.7</td>\n      <td>3</td>\n      <td>3</td>\n      <td>0</td>\n    </tr>\n    <tr>\n      <th>256</th>\n      <td>1.2</td>\n      <td>5</td>\n      <td>3</td>\n      <td>0</td>\n    </tr>\n    <tr>\n      <th>124</th>\n      <td>10.7</td>\n      <td>6</td>\n      <td>10</td>\n      <td>0</td>\n    </tr>\n    <tr>\n      <th>529</th>\n      <td>2.9</td>\n      <td>5</td>\n      <td>11</td>\n      <td>0</td>\n    </tr>\n    <tr>\n      <th>558</th>\n      <td>5.7</td>\n      <td>6</td>\n      <td>12</td>\n      <td>0</td>\n    </tr>\n  </tbody>\n</table>\n</div>"
     },
     "metadata": {},
     "output_type": "display_data"
    },
    {
     "data": {
      "text/plain": "632    128016\n256    131932\n124    114968\n529    122415\n558    120531\nName: demand, dtype: int64"
     },
     "metadata": {},
     "output_type": "display_data"
    },
    {
     "data": {
      "text/plain": "      temperature  day  month  holiday\n76           27.9    0      9        1\n848          16.2    2     10        0\n866          10.2    6     11        0\n1090         20.1    6      6        0\n493          15.0    4     10        0",
      "text/html": "<div>\n<style scoped>\n    .dataframe tbody tr th:only-of-type {\n        vertical-align: middle;\n    }\n\n    .dataframe tbody tr th {\n        vertical-align: top;\n    }\n\n    .dataframe thead th {\n        text-align: right;\n    }\n</style>\n<table border=\"1\" class=\"dataframe\">\n  <thead>\n    <tr style=\"text-align: right;\">\n      <th></th>\n      <th>temperature</th>\n      <th>day</th>\n      <th>month</th>\n      <th>holiday</th>\n    </tr>\n  </thead>\n  <tbody>\n    <tr>\n      <th>76</th>\n      <td>27.9</td>\n      <td>0</td>\n      <td>9</td>\n      <td>1</td>\n    </tr>\n    <tr>\n      <th>848</th>\n      <td>16.2</td>\n      <td>2</td>\n      <td>10</td>\n      <td>0</td>\n    </tr>\n    <tr>\n      <th>866</th>\n      <td>10.2</td>\n      <td>6</td>\n      <td>11</td>\n      <td>0</td>\n    </tr>\n    <tr>\n      <th>1090</th>\n      <td>20.1</td>\n      <td>6</td>\n      <td>6</td>\n      <td>0</td>\n    </tr>\n    <tr>\n      <th>493</th>\n      <td>15.0</td>\n      <td>4</td>\n      <td>10</td>\n      <td>0</td>\n    </tr>\n  </tbody>\n</table>\n</div>"
     },
     "metadata": {},
     "output_type": "display_data"
    },
    {
     "data": {
      "text/plain": "76      187973\n848     116042\n866     114855\n1090    117076\n493     125217\nName: demand, dtype: int64"
     },
     "metadata": {},
     "output_type": "display_data"
    }
   ],
   "source": [
    "X_train, X_test, y_train, y_test = train_test_split(X, y, test_size=0.2, random_state=seed)\n",
    "display(X_train.head(5))\n",
    "display(y_train.head(5))\n",
    "display(X_test.head(5))\n",
    "display(y_test.head(5))"
   ],
   "metadata": {
    "collapsed": false
   }
  },
  {
   "cell_type": "code",
   "execution_count": 20,
   "outputs": [],
   "source": [
    "# re-usable data prep pipeline, avoids having info leaks from test splits in cross-validation\n",
    "# update feature filter if needed\n",
    "cols = ['temperature']\n",
    "\n",
    "# TODO: data prep necessary? (probably enough to normalize/discretize temperature)\n",
    "\n",
    "prepare = Pipeline([\n",
    "    ('impute', SimpleImputer()), # needed?\n",
    "    ('scale', MinMaxScaler()), # [0..1]\n",
    "    ('discretize', KBinsDiscretizer(n_bins=10, encode='ordinal'))])\n",
    "\n",
    "column_trans = ColumnTransformer([\n",
    "    ('prepare', prepare, cols)],\n",
    "    remainder='passthrough', # leave other cols as-is\n",
    "    verbose_feature_names_out=False)"
   ],
   "metadata": {
    "collapsed": false
   }
  },
  {
   "cell_type": "code",
   "execution_count": 21,
   "outputs": [],
   "source": [
    "kf = RepeatedKFold(n_splits=10, random_state=seed)"
   ],
   "metadata": {
    "collapsed": false
   }
  },
  {
   "cell_type": "code",
   "execution_count": 22,
   "outputs": [],
   "source": [
    "xgb = XGBRegressor(objective='reg:squarederror', random_state=seed) # default metric\n",
    "\n",
    "xgb_pipeline = Pipeline([\n",
    "    ('data_prep', column_trans),\n",
    "    ('xgb', xgb)\n",
    "]) # data prep defined as pipeline so each CV split is fitted to training split only\n",
    "\n",
    "params = {\n",
    "    # TODO: we could parametrize data prep too and test some combinations\n",
    "    # TODO: check params for search grid\n",
    "    'xgb__learning_rate': [0.05, 0.10, 0.15, 0.20, 0.25, 0.30],\n",
    "    'xgb__max_depth': [3, 4, 5, 6, 8, 10, 12, 15],\n",
    "    'xgb__min_child_weight': [1, 3, 5, 7],\n",
    "    'xgb__gamma': [0.0, 0.1, 0.2 , 0.3, 0.4],\n",
    "    'xgb__colsample_bytree': [0.3, 0.4, 0.5 , 0.7]\n",
    "}"
   ],
   "metadata": {
    "collapsed": false
   }
  },
  {
   "cell_type": "code",
   "execution_count": 23,
   "outputs": [],
   "source": [
    "gs_xgb = RandomizedSearchCV(xgb_pipeline,\n",
    "                            random_state=seed,\n",
    "                            param_distributions=params,\n",
    "                            cv=kf,\n",
    "                            verbose=3,\n",
    "                            n_jobs=-1)"
   ],
   "metadata": {
    "collapsed": false
   }
  },
  {
   "cell_type": "code",
   "execution_count": 24,
   "outputs": [
    {
     "name": "stdout",
     "output_type": "stream",
     "text": [
      "Fitting 100 folds for each of 10 candidates, totalling 1000 fits\n"
     ]
    },
    {
     "data": {
      "text/plain": "RandomizedSearchCV(cv=RepeatedKFold(n_repeats=10, n_splits=10,\n       random_state=RandomState(MT19937) at 0x1F610D36640),\n                   estimator=Pipeline(steps=[('data_prep',\n                                              ColumnTransformer(remainder='passthrough',\n                                                                transformers=[('prepare',\n                                                                               Pipeline(steps=[('impute',\n                                                                                                SimpleImputer()),\n                                                                                               ('scale',\n                                                                                                MinMaxScaler()),\n                                                                                               ('discretize',\n                                                                                                KBinsDiscretizer(encode='ordinal',\n                                                                                                                 n_bins=10))]),\n                                                                               ['t...\n                                                           tree_method=None,\n                                                           validate_parameters=None,\n                                                           verbosity=None))]),\n                   n_jobs=-1,\n                   param_distributions={'xgb__colsample_bytree': [0.3, 0.4, 0.5,\n                                                                  0.7],\n                                        'xgb__gamma': [0.0, 0.1, 0.2, 0.3, 0.4],\n                                        'xgb__learning_rate': [0.05, 0.1, 0.15,\n                                                               0.2, 0.25, 0.3],\n                                        'xgb__max_depth': [3, 4, 5, 6, 8, 10,\n                                                           12, 15],\n                                        'xgb__min_child_weight': [1, 3, 5, 7]},\n                   random_state=RandomState(MT19937) at 0x1F610D36640,\n                   verbose=3)"
     },
     "execution_count": 24,
     "metadata": {},
     "output_type": "execute_result"
    }
   ],
   "source": [
    "gs_xgb.fit(X_train, y_train)"
   ],
   "metadata": {
    "collapsed": false
   }
  },
  {
   "cell_type": "code",
   "execution_count": 25,
   "outputs": [
    {
     "data": {
      "text/plain": "{'xgb__min_child_weight': 3,\n 'xgb__max_depth': 3,\n 'xgb__learning_rate': 0.15,\n 'xgb__gamma': 0.3,\n 'xgb__colsample_bytree': 0.5}"
     },
     "metadata": {},
     "output_type": "display_data"
    },
    {
     "data": {
      "text/plain": "0.8632986380533378"
     },
     "metadata": {},
     "output_type": "display_data"
    }
   ],
   "source": [
    "display(gs_xgb.best_params_)\n",
    "display(gs_xgb.best_score_)"
   ],
   "metadata": {
    "collapsed": false
   }
  },
  {
   "cell_type": "code",
   "execution_count": 26,
   "outputs": [],
   "source": [
    "# get best model\n",
    "model = gs_xgb.best_estimator_"
   ],
   "metadata": {
    "collapsed": false
   }
  },
  {
   "cell_type": "code",
   "execution_count": 27,
   "outputs": [
    {
     "data": {
      "text/plain": "6540.13824203668"
     },
     "metadata": {},
     "output_type": "display_data"
    }
   ],
   "source": [
    "# get predictions for test set to get a performance estimate for unseen data\n",
    "# best model is already re-trained on whole training data! (default for refit=True)\n",
    "y_pred = model.predict(X_test)\n",
    "err = mean_absolute_error(y_test, y_pred)\n",
    "display(err) # MWh"
   ],
   "metadata": {
    "collapsed": false
   }
  },
  {
   "cell_type": "code",
   "execution_count": 33,
   "outputs": [
    {
     "data": {
      "text/plain": "<Figure size 640x480 with 1 Axes>",
      "image/png": "[encoded data removed]"
     },
     "metadata": {},
     "output_type": "display_data"
    }
   ],
   "source": [
    "pyplot.bar(x=np.arange(len(y_pred)), height=y_pred, label='predicted', alpha=0.7)\n",
    "pyplot.bar(x=np.arange(len(y_pred)), height=y_test.to_numpy(), label='expected', alpha=0.7)\n",
    "pyplot.legend()\n",
    "pyplot.show() # this representation doesn't make a lot of sense 🤷‍♂️"
   ],
   "metadata": {
    "collapsed": false
   }
  },
  {
   "cell_type": "code",
   "execution_count": 70,
   "outputs": [
    {
     "data": {
      "text/plain": "Pipeline(steps=[('data_prep',\n                 ColumnTransformer(remainder='passthrough',\n                                   transformers=[('prepare',\n                                                  Pipeline(steps=[('impute',\n                                                                   SimpleImputer()),\n                                                                  ('scale',\n                                                                   MinMaxScaler()),\n                                                                  ('discretize',\n                                                                   KBinsDiscretizer(encode='ordinal',\n                                                                                    n_bins=10))]),\n                                                  ['temperature'])],\n                                   verbose_feature_names_out=False)),\n                ('xgb',\n                 XGBRegressor(base_score=0.5, booster='gbtree',\n                              colsample_bylevel=1,...\n                              gamma=0.4, gpu_id=-1, importance_type=None,\n                              interaction_constraints='', learning_rate=0.25,\n                              max_delta_step=0, max_depth=4, min_child_weight=7,\n                              missing=nan, monotone_constraints='()',\n                              n_estimators=100, n_jobs=8, num_parallel_tree=1,\n                              predictor='auto', random_state=19122655,\n                              reg_alpha=0, reg_lambda=1, scale_pos_weight=1,\n                              subsample=1, tree_method='exact',\n                              validate_parameters=1, verbosity=None))])"
     },
     "execution_count": 70,
     "metadata": {},
     "output_type": "execute_result"
    }
   ],
   "source": [
    "# retrain model on whole set\n",
    "model.fit(X, y) # reminder: \"model\" contains whole pipeline including data prep!\n",
    "\n",
    "# TODO: some stuff with the model"
   ],
   "metadata": {
    "collapsed": false
   }
  },
  {
   "cell_type": "code",
   "execution_count": null,
   "outputs": [],
   "source": [],
   "metadata": {
    "collapsed": false
   }
  }
 ],
 "metadata": {
  "kernelspec": {
   "display_name": "Python 3",
   "language": "python",
   "name": "python3"
  },
  "language_info": {
   "codemirror_mode": {
    "name": "ipython",
    "version": 2
   },
   "file_extension": ".py",
   "mimetype": "text/x-python",
   "name": "python",
   "nbconvert_exporter": "python",
   "pygments_lexer": "ipython2",
   "version": "2.7.6"
  }
 },
 "nbformat": 4,
 "nbformat_minor": 0
}
