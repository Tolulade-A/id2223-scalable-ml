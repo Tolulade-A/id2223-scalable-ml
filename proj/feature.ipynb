{
 "cells": [
  {
   "cell_type": "code",
   "execution_count": 6,
   "metadata": {},
   "outputs": [
    {
     "name": "stdout",
     "output_type": "stream",
     "text": [
      "The dotenv extension is already loaded. To reload it, use:\n",
      "  %reload_ext dotenv\n"
     ]
    }
   ],
   "source": [
    "import pandas as pd\n",
    "from pandas.tseries.holiday import USFederalHolidayCalendar as calendar\n",
    "import requests\n",
    "import hopsworks\n",
    "import os\n",
    "%load_ext dotenv"
   ]
  },
  {
   "cell_type": "code",
   "execution_count": 7,
   "metadata": {},
   "outputs": [],
   "source": [
    "%dotenv -vo .env"
   ]
  },
  {
   "cell_type": "code",
   "execution_count": 8,
   "metadata": {},
   "outputs": [],
   "source": [
    "url = ('https://api.eia.gov/v2/electricity/rto/daily-region-data/data/'\n",
    "       '?frequency=daily'\n",
    "       '&data[0]=value'\n",
    "       '&facets[respondent][]=NY'\n",
    "       '&facets[timezone][]=Eastern'\n",
    "       '&facets[type][]=D'\n",
    "       '&start=2017-01-01'\n",
    "       '&end=2021-12-31'\n",
    "       '&sort[0][column]=period'\n",
    "       '&sort[0][direction]=desc'\n",
    "       '&offset=0'\n",
    "       '&length=5000'\n",
    "       '&api_key=') + os.environ.get('EIA_API_KEY')"
   ]
  },
  {
   "cell_type": "code",
   "execution_count": 9,
   "metadata": {},
   "outputs": [],
   "source": [
    "data = requests.get(url).json()['response']['data']\n",
    "data = pd.DataFrame(data)"
   ]
  },
  {
   "cell_type": "code",
   "execution_count": 10,
   "metadata": {},
   "outputs": [
    {
     "data": {
      "text/plain": "       period respondent respondent-name type type-name timezone  \\\n0  2021-12-31         NY        New York    D    Demand  Eastern   \n1  2021-12-30         NY        New York    D    Demand  Eastern   \n2  2021-12-29         NY        New York    D    Demand  Eastern   \n3  2021-12-28         NY        New York    D    Demand  Eastern   \n4  2021-12-27         NY        New York    D    Demand  Eastern   \n\n  timezone-description   value    value-units  \n0              Eastern  380279  megawatthours  \n1              Eastern  401376  megawatthours  \n2              Eastern  411729  megawatthours  \n3              Eastern  411471  megawatthours  \n4              Eastern  424491  megawatthours  ",
      "text/html": "<div>\n<style scoped>\n    .dataframe tbody tr th:only-of-type {\n        vertical-align: middle;\n    }\n\n    .dataframe tbody tr th {\n        vertical-align: top;\n    }\n\n    .dataframe thead th {\n        text-align: right;\n    }\n</style>\n<table border=\"1\" class=\"dataframe\">\n  <thead>\n    <tr style=\"text-align: right;\">\n      <th></th>\n      <th>period</th>\n      <th>respondent</th>\n      <th>respondent-name</th>\n      <th>type</th>\n      <th>type-name</th>\n      <th>timezone</th>\n      <th>timezone-description</th>\n      <th>value</th>\n      <th>value-units</th>\n    </tr>\n  </thead>\n  <tbody>\n    <tr>\n      <th>0</th>\n      <td>2021-12-31</td>\n      <td>NY</td>\n      <td>New York</td>\n      <td>D</td>\n      <td>Demand</td>\n      <td>Eastern</td>\n      <td>Eastern</td>\n      <td>380279</td>\n      <td>megawatthours</td>\n    </tr>\n    <tr>\n      <th>1</th>\n      <td>2021-12-30</td>\n      <td>NY</td>\n      <td>New York</td>\n      <td>D</td>\n      <td>Demand</td>\n      <td>Eastern</td>\n      <td>Eastern</td>\n      <td>401376</td>\n      <td>megawatthours</td>\n    </tr>\n    <tr>\n      <th>2</th>\n      <td>2021-12-29</td>\n      <td>NY</td>\n      <td>New York</td>\n      <td>D</td>\n      <td>Demand</td>\n      <td>Eastern</td>\n      <td>Eastern</td>\n      <td>411729</td>\n      <td>megawatthours</td>\n    </tr>\n    <tr>\n      <th>3</th>\n      <td>2021-12-28</td>\n      <td>NY</td>\n      <td>New York</td>\n      <td>D</td>\n      <td>Demand</td>\n      <td>Eastern</td>\n      <td>Eastern</td>\n      <td>411471</td>\n      <td>megawatthours</td>\n    </tr>\n    <tr>\n      <th>4</th>\n      <td>2021-12-27</td>\n      <td>NY</td>\n      <td>New York</td>\n      <td>D</td>\n      <td>Demand</td>\n      <td>Eastern</td>\n      <td>Eastern</td>\n      <td>424491</td>\n      <td>megawatthours</td>\n    </tr>\n  </tbody>\n</table>\n</div>"
     },
     "metadata": {},
     "output_type": "display_data"
    }
   ],
   "source": [
    "display(data.head(5))"
   ]
  },
  {
   "cell_type": "code",
   "execution_count": 11,
   "metadata": {},
   "outputs": [
    {
     "data": {
      "text/plain": "        date  demand\n0 2021-12-31  380279\n1 2021-12-30  401376\n2 2021-12-29  411729\n3 2021-12-28  411471\n4 2021-12-27  424491",
      "text/html": "<div>\n<style scoped>\n    .dataframe tbody tr th:only-of-type {\n        vertical-align: middle;\n    }\n\n    .dataframe tbody tr th {\n        vertical-align: top;\n    }\n\n    .dataframe thead th {\n        text-align: right;\n    }\n</style>\n<table border=\"1\" class=\"dataframe\">\n  <thead>\n    <tr style=\"text-align: right;\">\n      <th></th>\n      <th>date</th>\n      <th>demand</th>\n    </tr>\n  </thead>\n  <tbody>\n    <tr>\n      <th>0</th>\n      <td>2021-12-31</td>\n      <td>380279</td>\n    </tr>\n    <tr>\n      <th>1</th>\n      <td>2021-12-30</td>\n      <td>401376</td>\n    </tr>\n    <tr>\n      <th>2</th>\n      <td>2021-12-29</td>\n      <td>411729</td>\n    </tr>\n    <tr>\n      <th>3</th>\n      <td>2021-12-28</td>\n      <td>411471</td>\n    </tr>\n    <tr>\n      <th>4</th>\n      <td>2021-12-27</td>\n      <td>424491</td>\n    </tr>\n  </tbody>\n</table>\n</div>"
     },
     "metadata": {},
     "output_type": "display_data"
    }
   ],
   "source": [
    "demand_daily = data[['period', 'value']].rename(columns={'period': 'date', 'value': 'demand'})\n",
    "demand_daily['date'] = pd.to_datetime(demand_daily['date'], infer_datetime_format=True)\n",
    "display(demand_daily.head(5))"
   ]
  },
  {
   "cell_type": "code",
   "execution_count": 12,
   "metadata": {},
   "outputs": [
    {
     "data": {
      "text/plain": "date      datetime64[ns]\ndemand             int64\ndtype: object"
     },
     "metadata": {},
     "output_type": "display_data"
    }
   ],
   "source": [
    "display(demand_daily.dtypes)"
   ]
  },
  {
   "cell_type": "code",
   "execution_count": 13,
   "metadata": {},
   "outputs": [
    {
     "data": {
      "text/plain": "       STATION                      NAME        DATE  TAVG\n0  USW00014732  LAGUARDIA AIRPORT, NY US  2017-01-01   8.0\n1  USW00014732  LAGUARDIA AIRPORT, NY US  2017-01-02   4.4\n2  USW00014732  LAGUARDIA AIRPORT, NY US  2017-01-03   5.6\n3  USW00014732  LAGUARDIA AIRPORT, NY US  2017-01-04   8.2\n4  USW00014732  LAGUARDIA AIRPORT, NY US  2017-01-05   1.0",
      "text/html": "<div>\n<style scoped>\n    .dataframe tbody tr th:only-of-type {\n        vertical-align: middle;\n    }\n\n    .dataframe tbody tr th {\n        vertical-align: top;\n    }\n\n    .dataframe thead th {\n        text-align: right;\n    }\n</style>\n<table border=\"1\" class=\"dataframe\">\n  <thead>\n    <tr style=\"text-align: right;\">\n      <th></th>\n      <th>STATION</th>\n      <th>NAME</th>\n      <th>DATE</th>\n      <th>TAVG</th>\n    </tr>\n  </thead>\n  <tbody>\n    <tr>\n      <th>0</th>\n      <td>USW00014732</td>\n      <td>LAGUARDIA AIRPORT, NY US</td>\n      <td>2017-01-01</td>\n      <td>8.0</td>\n    </tr>\n    <tr>\n      <th>1</th>\n      <td>USW00014732</td>\n      <td>LAGUARDIA AIRPORT, NY US</td>\n      <td>2017-01-02</td>\n      <td>4.4</td>\n    </tr>\n    <tr>\n      <th>2</th>\n      <td>USW00014732</td>\n      <td>LAGUARDIA AIRPORT, NY US</td>\n      <td>2017-01-03</td>\n      <td>5.6</td>\n    </tr>\n    <tr>\n      <th>3</th>\n      <td>USW00014732</td>\n      <td>LAGUARDIA AIRPORT, NY US</td>\n      <td>2017-01-04</td>\n      <td>8.2</td>\n    </tr>\n    <tr>\n      <th>4</th>\n      <td>USW00014732</td>\n      <td>LAGUARDIA AIRPORT, NY US</td>\n      <td>2017-01-05</td>\n      <td>1.0</td>\n    </tr>\n  </tbody>\n</table>\n</div>"
     },
     "metadata": {},
     "output_type": "display_data"
    }
   ],
   "source": [
    "# read weather data (dataset years 2017-2021 for LaGuardia from https://www.ncdc.noaa.gov/, daily summaries in climate data online)\n",
    "weather_data = pd.read_csv('./noaa_weather_lag_2017-2021.csv')\n",
    "display(weather_data.head(5))"
   ]
  },
  {
   "cell_type": "code",
   "execution_count": 14,
   "metadata": {},
   "outputs": [
    {
     "data": {
      "text/plain": "        date  temperature\n0 2017-01-01          8.0\n1 2017-01-02          4.4\n2 2017-01-03          5.6\n3 2017-01-04          8.2\n4 2017-01-05          1.0",
      "text/html": "<div>\n<style scoped>\n    .dataframe tbody tr th:only-of-type {\n        vertical-align: middle;\n    }\n\n    .dataframe tbody tr th {\n        vertical-align: top;\n    }\n\n    .dataframe thead th {\n        text-align: right;\n    }\n</style>\n<table border=\"1\" class=\"dataframe\">\n  <thead>\n    <tr style=\"text-align: right;\">\n      <th></th>\n      <th>date</th>\n      <th>temperature</th>\n    </tr>\n  </thead>\n  <tbody>\n    <tr>\n      <th>0</th>\n      <td>2017-01-01</td>\n      <td>8.0</td>\n    </tr>\n    <tr>\n      <th>1</th>\n      <td>2017-01-02</td>\n      <td>4.4</td>\n    </tr>\n    <tr>\n      <th>2</th>\n      <td>2017-01-03</td>\n      <td>5.6</td>\n    </tr>\n    <tr>\n      <th>3</th>\n      <td>2017-01-04</td>\n      <td>8.2</td>\n    </tr>\n    <tr>\n      <th>4</th>\n      <td>2017-01-05</td>\n      <td>1.0</td>\n    </tr>\n  </tbody>\n</table>\n</div>"
     },
     "metadata": {},
     "output_type": "display_data"
    }
   ],
   "source": [
    "weather_daily = weather_data[['DATE', 'TAVG']].rename(columns={'DATE': 'date', 'TAVG': 'temperature'})\n",
    "weather_daily['date'] = pd.to_datetime(weather_daily['date'], infer_datetime_format=True)\n",
    "display(weather_daily.head(5))"
   ]
  },
  {
   "cell_type": "code",
   "execution_count": 15,
   "metadata": {},
   "outputs": [
    {
     "data": {
      "text/plain": "date           datetime64[ns]\ntemperature           float64\ndtype: object"
     },
     "metadata": {},
     "output_type": "display_data"
    }
   ],
   "source": [
    "display(weather_daily.dtypes)"
   ]
  },
  {
   "cell_type": "code",
   "execution_count": 16,
   "metadata": {},
   "outputs": [
    {
     "data": {
      "text/plain": "        date  temperature  demand\n0 2017-01-01          8.0  385445\n1 2017-01-02          4.4  417277\n2 2017-01-03          5.6  434018\n3 2017-01-04          8.2  430935\n4 2017-01-05          1.0  459619",
      "text/html": "<div>\n<style scoped>\n    .dataframe tbody tr th:only-of-type {\n        vertical-align: middle;\n    }\n\n    .dataframe tbody tr th {\n        vertical-align: top;\n    }\n\n    .dataframe thead th {\n        text-align: right;\n    }\n</style>\n<table border=\"1\" class=\"dataframe\">\n  <thead>\n    <tr style=\"text-align: right;\">\n      <th></th>\n      <th>date</th>\n      <th>temperature</th>\n      <th>demand</th>\n    </tr>\n  </thead>\n  <tbody>\n    <tr>\n      <th>0</th>\n      <td>2017-01-01</td>\n      <td>8.0</td>\n      <td>385445</td>\n    </tr>\n    <tr>\n      <th>1</th>\n      <td>2017-01-02</td>\n      <td>4.4</td>\n      <td>417277</td>\n    </tr>\n    <tr>\n      <th>2</th>\n      <td>2017-01-03</td>\n      <td>5.6</td>\n      <td>434018</td>\n    </tr>\n    <tr>\n      <th>3</th>\n      <td>2017-01-04</td>\n      <td>8.2</td>\n      <td>430935</td>\n    </tr>\n    <tr>\n      <th>4</th>\n      <td>2017-01-05</td>\n      <td>1.0</td>\n      <td>459619</td>\n    </tr>\n  </tbody>\n</table>\n</div>"
     },
     "metadata": {},
     "output_type": "display_data"
    }
   ],
   "source": [
    "df = pd.merge(weather_daily, demand_daily, how='inner', on='date')\n",
    "display(df.head(5))"
   ]
  },
  {
   "cell_type": "code",
   "execution_count": 17,
   "metadata": {},
   "outputs": [
    {
     "data": {
      "text/plain": "        date  temperature  demand  day\n0 2017-01-01          8.0  385445    6\n1 2017-01-02          4.4  417277    0\n2 2017-01-03          5.6  434018    1\n3 2017-01-04          8.2  430935    2\n4 2017-01-05          1.0  459619    3",
      "text/html": "<div>\n<style scoped>\n    .dataframe tbody tr th:only-of-type {\n        vertical-align: middle;\n    }\n\n    .dataframe tbody tr th {\n        vertical-align: top;\n    }\n\n    .dataframe thead th {\n        text-align: right;\n    }\n</style>\n<table border=\"1\" class=\"dataframe\">\n  <thead>\n    <tr style=\"text-align: right;\">\n      <th></th>\n      <th>date</th>\n      <th>temperature</th>\n      <th>demand</th>\n      <th>day</th>\n    </tr>\n  </thead>\n  <tbody>\n    <tr>\n      <th>0</th>\n      <td>2017-01-01</td>\n      <td>8.0</td>\n      <td>385445</td>\n      <td>6</td>\n    </tr>\n    <tr>\n      <th>1</th>\n      <td>2017-01-02</td>\n      <td>4.4</td>\n      <td>417277</td>\n      <td>0</td>\n    </tr>\n    <tr>\n      <th>2</th>\n      <td>2017-01-03</td>\n      <td>5.6</td>\n      <td>434018</td>\n      <td>1</td>\n    </tr>\n    <tr>\n      <th>3</th>\n      <td>2017-01-04</td>\n      <td>8.2</td>\n      <td>430935</td>\n      <td>2</td>\n    </tr>\n    <tr>\n      <th>4</th>\n      <td>2017-01-05</td>\n      <td>1.0</td>\n      <td>459619</td>\n      <td>3</td>\n    </tr>\n  </tbody>\n</table>\n</div>"
     },
     "metadata": {},
     "output_type": "display_data"
    }
   ],
   "source": [
    "df['day'] = df['date'].dt.dayofweek\n",
    "display(df.head(5)) # 0=mon, ..., sun=6"
   ]
  },
  {
   "cell_type": "code",
   "execution_count": 18,
   "metadata": {},
   "outputs": [
    {
     "data": {
      "text/plain": "        date  temperature  demand  day  month\n0 2017-01-01          8.0  385445    6      1\n1 2017-01-02          4.4  417277    0      1\n2 2017-01-03          5.6  434018    1      1\n3 2017-01-04          8.2  430935    2      1\n4 2017-01-05          1.0  459619    3      1",
      "text/html": "<div>\n<style scoped>\n    .dataframe tbody tr th:only-of-type {\n        vertical-align: middle;\n    }\n\n    .dataframe tbody tr th {\n        vertical-align: top;\n    }\n\n    .dataframe thead th {\n        text-align: right;\n    }\n</style>\n<table border=\"1\" class=\"dataframe\">\n  <thead>\n    <tr style=\"text-align: right;\">\n      <th></th>\n      <th>date</th>\n      <th>temperature</th>\n      <th>demand</th>\n      <th>day</th>\n      <th>month</th>\n    </tr>\n  </thead>\n  <tbody>\n    <tr>\n      <th>0</th>\n      <td>2017-01-01</td>\n      <td>8.0</td>\n      <td>385445</td>\n      <td>6</td>\n      <td>1</td>\n    </tr>\n    <tr>\n      <th>1</th>\n      <td>2017-01-02</td>\n      <td>4.4</td>\n      <td>417277</td>\n      <td>0</td>\n      <td>1</td>\n    </tr>\n    <tr>\n      <th>2</th>\n      <td>2017-01-03</td>\n      <td>5.6</td>\n      <td>434018</td>\n      <td>1</td>\n      <td>1</td>\n    </tr>\n    <tr>\n      <th>3</th>\n      <td>2017-01-04</td>\n      <td>8.2</td>\n      <td>430935</td>\n      <td>2</td>\n      <td>1</td>\n    </tr>\n    <tr>\n      <th>4</th>\n      <td>2017-01-05</td>\n      <td>1.0</td>\n      <td>459619</td>\n      <td>3</td>\n      <td>1</td>\n    </tr>\n  </tbody>\n</table>\n</div>"
     },
     "metadata": {},
     "output_type": "display_data"
    }
   ],
   "source": [
    "df['month'] = df['date'].dt.month\n",
    "display(df.head(5)) # 1=jan, ..., dec=12"
   ]
  },
  {
   "cell_type": "code",
   "execution_count": 19,
   "metadata": {},
   "outputs": [
    {
     "data": {
      "text/plain": "        date  temperature  demand  day  month  holiday\n0 2017-01-01          8.0  385445    6      1        0\n1 2017-01-02          4.4  417277    0      1        1\n2 2017-01-03          5.6  434018    1      1        0\n3 2017-01-04          8.2  430935    2      1        0\n4 2017-01-05          1.0  459619    3      1        0",
      "text/html": "<div>\n<style scoped>\n    .dataframe tbody tr th:only-of-type {\n        vertical-align: middle;\n    }\n\n    .dataframe tbody tr th {\n        vertical-align: top;\n    }\n\n    .dataframe thead th {\n        text-align: right;\n    }\n</style>\n<table border=\"1\" class=\"dataframe\">\n  <thead>\n    <tr style=\"text-align: right;\">\n      <th></th>\n      <th>date</th>\n      <th>temperature</th>\n      <th>demand</th>\n      <th>day</th>\n      <th>month</th>\n      <th>holiday</th>\n    </tr>\n  </thead>\n  <tbody>\n    <tr>\n      <th>0</th>\n      <td>2017-01-01</td>\n      <td>8.0</td>\n      <td>385445</td>\n      <td>6</td>\n      <td>1</td>\n      <td>0</td>\n    </tr>\n    <tr>\n      <th>1</th>\n      <td>2017-01-02</td>\n      <td>4.4</td>\n      <td>417277</td>\n      <td>0</td>\n      <td>1</td>\n      <td>1</td>\n    </tr>\n    <tr>\n      <th>2</th>\n      <td>2017-01-03</td>\n      <td>5.6</td>\n      <td>434018</td>\n      <td>1</td>\n      <td>1</td>\n      <td>0</td>\n    </tr>\n    <tr>\n      <th>3</th>\n      <td>2017-01-04</td>\n      <td>8.2</td>\n      <td>430935</td>\n      <td>2</td>\n      <td>1</td>\n      <td>0</td>\n    </tr>\n    <tr>\n      <th>4</th>\n      <td>2017-01-05</td>\n      <td>1.0</td>\n      <td>459619</td>\n      <td>3</td>\n      <td>1</td>\n      <td>0</td>\n    </tr>\n  </tbody>\n</table>\n</div>"
     },
     "metadata": {},
     "output_type": "display_data"
    }
   ],
   "source": [
    "# add (find) bank holiday (binary mask?)\n",
    "holidays = calendar().holidays(start=df['date'].min(), end=df['date'].max())\n",
    "df['holiday'] = df['date'].isin(holidays).astype(int)\n",
    "display(df.head(5))"
   ]
  },
  {
   "cell_type": "code",
   "execution_count": 20,
   "metadata": {},
   "outputs": [
    {
     "name": "stdout",
     "output_type": "stream",
     "text": [
      "Connected. Call `.close()` to terminate connection gracefully.\n",
      "\n",
      "Logged in to project, explore it here https://c.app.hopsworks.ai:443/p/5300\n"
     ]
    },
    {
     "name": "stderr",
     "output_type": "stream",
     "text": [
      "DeprecationWarning: the imp module is deprecated in favour of importlib; see the module's documentation for alternative uses\n"
     ]
    },
    {
     "name": "stdout",
     "output_type": "stream",
     "text": [
      "Connected. Call `.close()` to terminate connection gracefully.\n"
     ]
    }
   ],
   "source": [
    "# Login to hopsworks project\n",
    "project = hopsworks.login()\n",
    "fs = project.get_feature_store()"
   ]
  },
  {
   "cell_type": "code",
   "execution_count": 21,
   "metadata": {},
   "outputs": [],
   "source": [
    "# Create feature group\n",
    "# TODO: since entries (should) be unique/daily, couldn't we just use date as key?\n",
    "fg = fs.get_or_create_feature_group(\n",
    "    name=\"ny_elec\",\n",
    "    primary_key=[\"date\", \"temperature\", \"day\", \"month\", \"holiday\"],\n",
    "    version=1,\n",
    "    description=\"Dataset of NY region electricity demand with average daily weather and bank holidays\")"
   ]
  },
  {
   "cell_type": "code",
   "execution_count": 22,
   "metadata": {},
   "outputs": [
    {
     "data": {
      "text/plain": "Uploading Dataframe: 0.00% |          | Rows 0/1826 | Elapsed Time: 00:00 | Remaining Time: ?",
      "application/vnd.jupyter.widget-view+json": {
       "version_major": 2,
       "version_minor": 0,
       "model_id": "a45793024c174ba3803ad773e57a5f04"
      }
     },
     "metadata": {},
     "output_type": "display_data"
    },
    {
     "name": "stdout",
     "output_type": "stream",
     "text": [
      "Launching offline feature group backfill job...\n",
      "Backfill Job started successfully, you can follow the progress at \n",
      "https://c.app.hopsworks.ai/p/5300/jobs/named/ny_elec_1_offline_fg_backfill/executions\n"
     ]
    },
    {
     "data": {
      "text/plain": "(<hsfs.core.job.Job at 0x2773f3a15e0>, None)"
     },
     "execution_count": 22,
     "metadata": {},
     "output_type": "execute_result"
    }
   ],
   "source": [
    "# Insert feature group to hopsworks \n",
    "fg.insert(df, write_options={\"wait_for_job\": False})"
   ]
  }
 ],
 "metadata": {
  "kernelspec": {
   "display_name": "venv_serverless-ml-intro",
   "language": "python",
   "name": "python3"
  },
  "language_info": {
   "codemirror_mode": {
    "name": "ipython",
    "version": 3
   },
   "file_extension": ".py",
   "mimetype": "text/x-python",
   "name": "python",
   "nbconvert_exporter": "python",
   "pygments_lexer": "ipython3",
   "version": "3.8.13"
  },
  "orig_nbformat": 4,
  "vscode": {
   "interpreter": {
    "hash": "a77259d763ed14faa3a356df3922fe1abc599c7258231b33490f150f6caa86a3"
   }
  }
 },
 "nbformat": 4,
 "nbformat_minor": 2
}
