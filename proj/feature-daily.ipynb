{
 "cells": [
  {
   "cell_type": "code",
   "execution_count": 1,
   "metadata": {},
   "outputs": [],
   "source": [
    "import pandas as pd\n",
    "from pandas.tseries.holiday import USFederalHolidayCalendar as calendar\n",
    "import datetime\n",
    "import requests\n",
    "import hopsworks\n",
    "import os\n",
    "%load_ext dotenv"
   ]
  },
  {
   "cell_type": "code",
   "execution_count": 2,
   "metadata": {},
   "outputs": [],
   "source": [
    "%dotenv -vo .env"
   ]
  },
  {
   "cell_type": "code",
   "execution_count": null,
   "outputs": [],
   "source": [
    "# TODO: runs local only, add (daily) modal function export/creation"
   ],
   "metadata": {
    "collapsed": false
   }
  },
  {
   "cell_type": "code",
   "execution_count": 3,
   "metadata": {},
   "outputs": [
    {
     "name": "stdout",
     "output_type": "stream",
     "text": [
      "2023-01-05\n"
     ]
    }
   ],
   "source": [
    "# Get date two days ago (Demand and demand forecast are 2 days behind)\n",
    "prediction_date = datetime.datetime.today() - datetime.timedelta(days=2)\n",
    "prediction_date = prediction_date.date()\n",
    "print(prediction_date)"
   ]
  },
  {
   "cell_type": "code",
   "execution_count": 4,
   "metadata": {},
   "outputs": [],
   "source": [
    "url = ('https://api.eia.gov/v2/electricity/rto/daily-region-data/data/'\n",
    "       '?frequency=daily'\n",
    "       '&data[0]=value'\n",
    "       '&facets[respondent][]=NY'\n",
    "       '&facets[timezone][]=Eastern'\n",
    "       '&facets[type][]=D'\n",
    "       '&facets[type][]=DF'\n",
    "       '&sort[0][column]=period'\n",
    "       '&sort[0][direction]=desc'\n",
    "       '&offset=0'\n",
    "       '&length=5000')\n",
    "\n",
    "url = url + '&start={}&end={}&api_key={}'.format(prediction_date, prediction_date, os.environ.get('EIA_API_KEY'))"
   ]
  },
  {
   "cell_type": "code",
   "execution_count": 5,
   "metadata": {},
   "outputs": [],
   "source": [
    "data = requests.get(url).json()['response']['data']"
   ]
  },
  {
   "cell_type": "code",
   "execution_count": 6,
   "metadata": {},
   "outputs": [
    {
     "data": {
      "text/plain": "       period respondent respondent-name type                  type-name  \\\n0  2023-01-05         NY        New York   DF  Day-ahead demand forecast   \n\n  timezone timezone-description   value    value-units  \n0  Eastern              Eastern  385451  megawatthours  ",
      "text/html": "<div>\n<style scoped>\n    .dataframe tbody tr th:only-of-type {\n        vertical-align: middle;\n    }\n\n    .dataframe tbody tr th {\n        vertical-align: top;\n    }\n\n    .dataframe thead th {\n        text-align: right;\n    }\n</style>\n<table border=\"1\" class=\"dataframe\">\n  <thead>\n    <tr style=\"text-align: right;\">\n      <th></th>\n      <th>period</th>\n      <th>respondent</th>\n      <th>respondent-name</th>\n      <th>type</th>\n      <th>type-name</th>\n      <th>timezone</th>\n      <th>timezone-description</th>\n      <th>value</th>\n      <th>value-units</th>\n    </tr>\n  </thead>\n  <tbody>\n    <tr>\n      <th>0</th>\n      <td>2023-01-05</td>\n      <td>NY</td>\n      <td>New York</td>\n      <td>DF</td>\n      <td>Day-ahead demand forecast</td>\n      <td>Eastern</td>\n      <td>Eastern</td>\n      <td>385451</td>\n      <td>megawatthours</td>\n    </tr>\n  </tbody>\n</table>\n</div>"
     },
     "execution_count": 6,
     "metadata": {},
     "output_type": "execute_result"
    }
   ],
   "source": [
    "# To be used in inference\n",
    "data_forecast = data[0]\n",
    "data_forecast = pd.DataFrame(data_forecast, index=[0])\n",
    "data_forecast.head()"
   ]
  },
  {
   "cell_type": "code",
   "execution_count": 7,
   "metadata": {},
   "outputs": [
    {
     "data": {
      "text/plain": "       period respondent respondent-name type type-name timezone  \\\n0  2023-01-05         NY        New York    D    Demand  Eastern   \n\n  timezone-description   value    value-units  \n0              Eastern  395100  megawatthours  ",
      "text/html": "<div>\n<style scoped>\n    .dataframe tbody tr th:only-of-type {\n        vertical-align: middle;\n    }\n\n    .dataframe tbody tr th {\n        vertical-align: top;\n    }\n\n    .dataframe thead th {\n        text-align: right;\n    }\n</style>\n<table border=\"1\" class=\"dataframe\">\n  <thead>\n    <tr style=\"text-align: right;\">\n      <th></th>\n      <th>period</th>\n      <th>respondent</th>\n      <th>respondent-name</th>\n      <th>type</th>\n      <th>type-name</th>\n      <th>timezone</th>\n      <th>timezone-description</th>\n      <th>value</th>\n      <th>value-units</th>\n    </tr>\n  </thead>\n  <tbody>\n    <tr>\n      <th>0</th>\n      <td>2023-01-05</td>\n      <td>NY</td>\n      <td>New York</td>\n      <td>D</td>\n      <td>Demand</td>\n      <td>Eastern</td>\n      <td>Eastern</td>\n      <td>395100</td>\n      <td>megawatthours</td>\n    </tr>\n  </tbody>\n</table>\n</div>"
     },
     "execution_count": 7,
     "metadata": {},
     "output_type": "execute_result"
    }
   ],
   "source": [
    "data_demand = data[1]\n",
    "data_demand = pd.DataFrame(data_demand, index=[0])\n",
    "data_demand.head()"
   ]
  },
  {
   "cell_type": "code",
   "execution_count": 8,
   "metadata": {},
   "outputs": [
    {
     "data": {
      "text/plain": "        date  forecast\n0 2023-01-05    385451",
      "text/html": "<div>\n<style scoped>\n    .dataframe tbody tr th:only-of-type {\n        vertical-align: middle;\n    }\n\n    .dataframe tbody tr th {\n        vertical-align: top;\n    }\n\n    .dataframe thead th {\n        text-align: right;\n    }\n</style>\n<table border=\"1\" class=\"dataframe\">\n  <thead>\n    <tr style=\"text-align: right;\">\n      <th></th>\n      <th>date</th>\n      <th>forecast</th>\n    </tr>\n  </thead>\n  <tbody>\n    <tr>\n      <th>0</th>\n      <td>2023-01-05</td>\n      <td>385451</td>\n    </tr>\n  </tbody>\n</table>\n</div>"
     },
     "metadata": {},
     "output_type": "display_data"
    }
   ],
   "source": [
    "# TODO: we don't need this here (used to compare predictions, UI only?)\n",
    "data_forecast = data_forecast[['period', 'value']].rename(columns={'period': 'date', 'value': 'forecast'})\n",
    "data_forecast['date'] = pd.to_datetime(data_forecast['date'], infer_datetime_format=True)\n",
    "display(data_forecast.head(5))"
   ]
  },
  {
   "cell_type": "code",
   "execution_count": 9,
   "metadata": {},
   "outputs": [
    {
     "data": {
      "text/plain": "        date  demand\n0 2023-01-05  395100",
      "text/html": "<div>\n<style scoped>\n    .dataframe tbody tr th:only-of-type {\n        vertical-align: middle;\n    }\n\n    .dataframe tbody tr th {\n        vertical-align: top;\n    }\n\n    .dataframe thead th {\n        text-align: right;\n    }\n</style>\n<table border=\"1\" class=\"dataframe\">\n  <thead>\n    <tr style=\"text-align: right;\">\n      <th></th>\n      <th>date</th>\n      <th>demand</th>\n    </tr>\n  </thead>\n  <tbody>\n    <tr>\n      <th>0</th>\n      <td>2023-01-05</td>\n      <td>395100</td>\n    </tr>\n  </tbody>\n</table>\n</div>"
     },
     "metadata": {},
     "output_type": "display_data"
    }
   ],
   "source": [
    "# Clean DF to same format as fg\n",
    "data_demand = data_demand[['period', 'value']].rename(columns={'period': 'date', 'value': 'demand'})\n",
    "data_demand['date'] = pd.to_datetime(data_demand['date'], infer_datetime_format=True)\n",
    "display(data_demand.head())"
   ]
  },
  {
   "cell_type": "code",
   "execution_count": 10,
   "metadata": {},
   "outputs": [],
   "source": [
    "# Get temperature\n",
    "weather_api_key = os.environ.get('WEATHER_API_KEY')\n",
    "weather_url = ('http://api.weatherapi.com/v1/history.json'\n",
    "               '?key={}'\n",
    "               '&q=New%20York,%20USA'\n",
    "               '&dt={}').format(weather_api_key, prediction_date)"
   ]
  },
  {
   "cell_type": "code",
   "execution_count": 11,
   "metadata": {},
   "outputs": [
    {
     "name": "stdout",
     "output_type": "stream",
     "text": [
      "11.2\n",
      "        date  temperature\n",
      "0 2023-01-05         11.2\n"
     ]
    }
   ],
   "source": [
    "weather_data = requests.get(weather_url).json()['forecast']['forecastday'][0]['day']['avgtemp_c']\n",
    "print(weather_data)\n",
    "weather_df = pd.DataFrame({'date': [prediction_date], 'temperature': [weather_data]})\n",
    "weather_df['date'] = pd.to_datetime(weather_df['date'], infer_datetime_format=True)\n",
    "print(weather_df)"
   ]
  },
  {
   "cell_type": "code",
   "execution_count": 12,
   "metadata": {},
   "outputs": [
    {
     "data": {
      "text/plain": "        date  temperature  demand  day  month\n0 2023-01-05         11.2  395100    3      1",
      "text/html": "<div>\n<style scoped>\n    .dataframe tbody tr th:only-of-type {\n        vertical-align: middle;\n    }\n\n    .dataframe tbody tr th {\n        vertical-align: top;\n    }\n\n    .dataframe thead th {\n        text-align: right;\n    }\n</style>\n<table border=\"1\" class=\"dataframe\">\n  <thead>\n    <tr style=\"text-align: right;\">\n      <th></th>\n      <th>date</th>\n      <th>temperature</th>\n      <th>demand</th>\n      <th>day</th>\n      <th>month</th>\n    </tr>\n  </thead>\n  <tbody>\n    <tr>\n      <th>0</th>\n      <td>2023-01-05</td>\n      <td>11.2</td>\n      <td>395100</td>\n      <td>3</td>\n      <td>1</td>\n    </tr>\n  </tbody>\n</table>\n</div>"
     },
     "execution_count": 12,
     "metadata": {},
     "output_type": "execute_result"
    }
   ],
   "source": [
    "merged_df = pd.merge(weather_df,data_demand,how='inner', on='date')\n",
    "merged_df['day'] = merged_df['date'].dt.dayofweek\n",
    "merged_df['month'] = merged_df['date'].dt.month\n",
    "merged_df.head()"
   ]
  },
  {
   "cell_type": "code",
   "execution_count": 13,
   "metadata": {},
   "outputs": [
    {
     "data": {
      "text/plain": "        date  temperature  demand  day  month  holiday\n0 2023-01-05         11.2  395100    3      1        0",
      "text/html": "<div>\n<style scoped>\n    .dataframe tbody tr th:only-of-type {\n        vertical-align: middle;\n    }\n\n    .dataframe tbody tr th {\n        vertical-align: top;\n    }\n\n    .dataframe thead th {\n        text-align: right;\n    }\n</style>\n<table border=\"1\" class=\"dataframe\">\n  <thead>\n    <tr style=\"text-align: right;\">\n      <th></th>\n      <th>date</th>\n      <th>temperature</th>\n      <th>demand</th>\n      <th>day</th>\n      <th>month</th>\n      <th>holiday</th>\n    </tr>\n  </thead>\n  <tbody>\n    <tr>\n      <th>0</th>\n      <td>2023-01-05</td>\n      <td>11.2</td>\n      <td>395100</td>\n      <td>3</td>\n      <td>1</td>\n      <td>0</td>\n    </tr>\n  </tbody>\n</table>\n</div>"
     },
     "metadata": {},
     "output_type": "display_data"
    }
   ],
   "source": [
    "# Get bank holidays\n",
    "holidays = calendar().holidays(start=merged_df['date'].min(), end=merged_df['date'].max())\n",
    "merged_df['holiday'] = merged_df['date'].isin(holidays).astype(int)\n",
    "display(merged_df.head())"
   ]
  },
  {
   "cell_type": "code",
   "execution_count": 14,
   "metadata": {},
   "outputs": [
    {
     "name": "stdout",
     "output_type": "stream",
     "text": [
      "Connected. Call `.close()` to terminate connection gracefully.\n",
      "\n",
      "Logged in to project, explore it here https://c.app.hopsworks.ai:443/p/5300\n"
     ]
    },
    {
     "name": "stderr",
     "output_type": "stream",
     "text": [
      "DeprecationWarning: the imp module is deprecated in favour of importlib; see the module's documentation for alternative uses\n"
     ]
    },
    {
     "name": "stdout",
     "output_type": "stream",
     "text": [
      "Connected. Call `.close()` to terminate connection gracefully.\n"
     ]
    }
   ],
   "source": [
    "project = hopsworks.login()\n",
    "fs = project.get_feature_store()"
   ]
  },
  {
   "cell_type": "code",
   "execution_count": 16,
   "metadata": {},
   "outputs": [
    {
     "data": {
      "text/plain": "Uploading Dataframe: 0.00% |          | Rows 0/1 | Elapsed Time: 00:00 | Remaining Time: ?",
      "application/vnd.jupyter.widget-view+json": {
       "version_major": 2,
       "version_minor": 0,
       "model_id": "130343de3b61453c9e9fb0dfbfb65ded"
      }
     },
     "metadata": {},
     "output_type": "display_data"
    },
    {
     "name": "stdout",
     "output_type": "stream",
     "text": [
      "Launching offline feature group backfill job...\n",
      "Backfill Job started successfully, you can follow the progress at \n",
      "https://c.app.hopsworks.ai/p/5300/jobs/named/ny_elec_1_offline_fg_backfill/executions\n"
     ]
    },
    {
     "data": {
      "text/plain": "(<hsfs.core.job.Job at 0x1afdf511eb0>, None)"
     },
     "execution_count": 16,
     "metadata": {},
     "output_type": "execute_result"
    }
   ],
   "source": [
    "fg = fs.get_feature_group(name=\"ny_elec\", version=1)\n",
    "fg.insert(merged_df, write_options={\"wait_for_job\": False})"
   ]
  }
 ],
 "metadata": {
  "kernelspec": {
   "display_name": "venv_serverless-ml-intro",
   "language": "python",
   "name": "python3"
  },
  "language_info": {
   "codemirror_mode": {
    "name": "ipython",
    "version": 3
   },
   "file_extension": ".py",
   "mimetype": "text/x-python",
   "name": "python",
   "nbconvert_exporter": "python",
   "pygments_lexer": "ipython3",
   "version": "3.8.13"
  },
  "orig_nbformat": 4,
  "vscode": {
   "interpreter": {
    "hash": "a77259d763ed14faa3a356df3922fe1abc599c7258231b33490f150f6caa86a3"
   }
  }
 },
 "nbformat": 4,
 "nbformat_minor": 2
}
