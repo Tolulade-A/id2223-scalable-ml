{
 "cells": [
  {
   "cell_type": "code",
   "execution_count": 1,
   "metadata": {},
   "outputs": [
    {
     "name": "stderr",
     "output_type": "stream",
     "text": [
      "FutureWarning: pandas.Int64Index is deprecated and will be removed from pandas in a future version. Use pandas.Index with the appropriate dtype instead.\n"
     ]
    }
   ],
   "source": [
    "import os\n",
    "import hopsworks\n",
    "import pandas as pd\n",
    "import numpy as np\n",
    "import joblib\n",
    "from xgboost import XGBRegressor\n",
    "from sklearn.model_selection import RepeatedKFold\n",
    "from sklearn.model_selection import RandomizedSearchCV\n",
    "from sklearn.impute import SimpleImputer\n",
    "from sklearn.preprocessing import MinMaxScaler\n",
    "from sklearn.preprocessing import KBinsDiscretizer\n",
    "from sklearn.pipeline import Pipeline\n",
    "from sklearn.compose import ColumnTransformer\n",
    "from sklearn.metrics import mean_absolute_error\n",
    "from sklearn.metrics import classification_report\n",
    "from matplotlib import pyplot\n",
    "from hsml.schema import Schema\n",
    "from hsml.model_schema import ModelSchema\n",
    "%load_ext dotenv"
   ]
  },
  {
   "cell_type": "code",
   "execution_count": 2,
   "outputs": [],
   "source": [
    "%dotenv -vo .env"
   ],
   "metadata": {
    "collapsed": false
   }
  },
  {
   "cell_type": "code",
   "execution_count": 3,
   "metadata": {},
   "outputs": [
    {
     "name": "stdout",
     "output_type": "stream",
     "text": [
      "Connected. Call `.close()` to terminate connection gracefully.\n",
      "\n",
      "Logged in to project, explore it here https://c.app.hopsworks.ai:443/p/5300\n"
     ]
    },
    {
     "name": "stderr",
     "output_type": "stream",
     "text": [
      "DeprecationWarning: the imp module is deprecated in favour of importlib; see the module's documentation for alternative uses\n"
     ]
    },
    {
     "name": "stdout",
     "output_type": "stream",
     "text": [
      "Connected. Call `.close()` to terminate connection gracefully.\n"
     ]
    }
   ],
   "source": [
    "project = hopsworks.login()\n",
    "fs = project.get_feature_store()"
   ]
  },
  {
   "cell_type": "code",
   "execution_count": 4,
   "metadata": {},
   "outputs": [
    {
     "name": "stdout",
     "output_type": "stream",
     "text": [
      "Feature view created successfully, explore it at \n",
      "https://c.app.hopsworks.ai:443/p/5300/fs/5220/fv/ny_elec/version/1\n"
     ]
    }
   ],
   "source": [
    "try:\n",
    "    fview = fs.get_feature_view(name=\"ny_elec\", version=1)\n",
    "except:\n",
    "    fg = fs.get_feature_group(name=\"ny_elec\", version=1)\n",
    "    query = fg.select_except([\"date\"]) # date not needed for training\n",
    "    fview = fs.create_feature_view(name=\"ny_elec\",\n",
    "                                   version=1,\n",
    "                                   description=\"Read from NY electricity dataset\",\n",
    "                                   labels=[\"demand\"], # predict demand\n",
    "                                   query=query)"
   ]
  },
  {
   "cell_type": "code",
   "execution_count": 5,
   "metadata": {},
   "outputs": [
    {
     "data": {
      "text/plain": "0.21864505014720603"
     },
     "execution_count": 5,
     "metadata": {},
     "output_type": "execute_result"
    }
   ],
   "source": [
    "# Hyperparameter search\n",
    "seed = np.random.RandomState(65)\n",
    "seed.rand()"
   ]
  },
  {
   "cell_type": "code",
   "execution_count": 6,
   "metadata": {},
   "outputs": [
    {
     "name": "stdout",
     "output_type": "stream",
     "text": [
      "2023-01-07 10:42:16,913 INFO: USE `iris_featurestore`\n",
      "2023-01-07 10:42:17,584 INFO: SELECT `fg0`.`temperature` `temperature`, `fg0`.`demand` `demand`, `fg0`.`day` `day`, `fg0`.`month` `month`, `fg0`.`holiday` `holiday`\n",
      "FROM `iris_featurestore`.`ny_elec_1` `fg0`\n"
     ]
    },
    {
     "name": "stderr",
     "output_type": "stream",
     "text": [
      "UserWarning: pandas only support SQLAlchemy connectable(engine/connection) ordatabase string URI or sqlite3 DBAPI2 connectionother DBAPI2 objects are not tested, please consider using SQLAlchemy\n",
      "VersionWarning: Incremented version to `1`.\n"
     ]
    }
   ],
   "source": [
    "#X_train, X_test, y_train, y_test = fview.create_train_test_split(test_size=0.2)\n",
    "X_train, X_test, y_train, y_test = fview.train_test_split(0.2)"
   ]
  },
  {
   "cell_type": "code",
   "execution_count": 7,
   "metadata": {},
   "outputs": [
    {
     "data": {
      "text/plain": "   temperature  day  month  holiday\n0         25.7    6      6        0\n1         30.8    2      7        0\n2         10.9    5      4        0\n3         15.8    2     10        0\n4          7.4    3     11        0",
      "text/html": "<div>\n<style scoped>\n    .dataframe tbody tr th:only-of-type {\n        vertical-align: middle;\n    }\n\n    .dataframe tbody tr th {\n        vertical-align: top;\n    }\n\n    .dataframe thead th {\n        text-align: right;\n    }\n</style>\n<table border=\"1\" class=\"dataframe\">\n  <thead>\n    <tr style=\"text-align: right;\">\n      <th></th>\n      <th>temperature</th>\n      <th>day</th>\n      <th>month</th>\n      <th>holiday</th>\n    </tr>\n  </thead>\n  <tbody>\n    <tr>\n      <th>0</th>\n      <td>25.7</td>\n      <td>6</td>\n      <td>6</td>\n      <td>0</td>\n    </tr>\n    <tr>\n      <th>1</th>\n      <td>30.8</td>\n      <td>2</td>\n      <td>7</td>\n      <td>0</td>\n    </tr>\n    <tr>\n      <th>2</th>\n      <td>10.9</td>\n      <td>5</td>\n      <td>4</td>\n      <td>0</td>\n    </tr>\n    <tr>\n      <th>3</th>\n      <td>15.8</td>\n      <td>2</td>\n      <td>10</td>\n      <td>0</td>\n    </tr>\n    <tr>\n      <th>4</th>\n      <td>7.4</td>\n      <td>3</td>\n      <td>11</td>\n      <td>0</td>\n    </tr>\n  </tbody>\n</table>\n</div>"
     },
     "execution_count": 7,
     "metadata": {},
     "output_type": "execute_result"
    }
   ],
   "source": [
    "X_train.head(5)"
   ]
  },
  {
   "cell_type": "code",
   "execution_count": 8,
   "metadata": {},
   "outputs": [
    {
     "data": {
      "text/plain": "   demand\n0  441658\n1  600695\n2  328054\n3  387485\n4  409803",
      "text/html": "<div>\n<style scoped>\n    .dataframe tbody tr th:only-of-type {\n        vertical-align: middle;\n    }\n\n    .dataframe tbody tr th {\n        vertical-align: top;\n    }\n\n    .dataframe thead th {\n        text-align: right;\n    }\n</style>\n<table border=\"1\" class=\"dataframe\">\n  <thead>\n    <tr style=\"text-align: right;\">\n      <th></th>\n      <th>demand</th>\n    </tr>\n  </thead>\n  <tbody>\n    <tr>\n      <th>0</th>\n      <td>441658</td>\n    </tr>\n    <tr>\n      <th>1</th>\n      <td>600695</td>\n    </tr>\n    <tr>\n      <th>2</th>\n      <td>328054</td>\n    </tr>\n    <tr>\n      <th>3</th>\n      <td>387485</td>\n    </tr>\n    <tr>\n      <th>4</th>\n      <td>409803</td>\n    </tr>\n  </tbody>\n</table>\n</div>"
     },
     "execution_count": 8,
     "metadata": {},
     "output_type": "execute_result"
    }
   ],
   "source": [
    "y_train.head(5)"
   ]
  },
  {
   "cell_type": "code",
   "execution_count": 9,
   "metadata": {},
   "outputs": [
    {
     "data": {
      "text/plain": "    temperature  day  month  holiday\n8          -1.7    5     12        0\n14          6.2    4      1        0\n20         24.8    4      8        0\n24          6.8    3     11        0\n31         13.1    3      5        0",
      "text/html": "<div>\n<style scoped>\n    .dataframe tbody tr th:only-of-type {\n        vertical-align: middle;\n    }\n\n    .dataframe tbody tr th {\n        vertical-align: top;\n    }\n\n    .dataframe thead th {\n        text-align: right;\n    }\n</style>\n<table border=\"1\" class=\"dataframe\">\n  <thead>\n    <tr style=\"text-align: right;\">\n      <th></th>\n      <th>temperature</th>\n      <th>day</th>\n      <th>month</th>\n      <th>holiday</th>\n    </tr>\n  </thead>\n  <tbody>\n    <tr>\n      <th>8</th>\n      <td>-1.7</td>\n      <td>5</td>\n      <td>12</td>\n      <td>0</td>\n    </tr>\n    <tr>\n      <th>14</th>\n      <td>6.2</td>\n      <td>4</td>\n      <td>1</td>\n      <td>0</td>\n    </tr>\n    <tr>\n      <th>20</th>\n      <td>24.8</td>\n      <td>4</td>\n      <td>8</td>\n      <td>0</td>\n    </tr>\n    <tr>\n      <th>24</th>\n      <td>6.8</td>\n      <td>3</td>\n      <td>11</td>\n      <td>0</td>\n    </tr>\n    <tr>\n      <th>31</th>\n      <td>13.1</td>\n      <td>3</td>\n      <td>5</td>\n      <td>0</td>\n    </tr>\n  </tbody>\n</table>\n</div>"
     },
     "execution_count": 9,
     "metadata": {},
     "output_type": "execute_result"
    }
   ],
   "source": [
    "X_test.head(5)"
   ]
  },
  {
   "cell_type": "code",
   "execution_count": 10,
   "metadata": {},
   "outputs": [
    {
     "data": {
      "text/plain": "    demand\n8   440992\n14  425015\n20  473934\n24  422032\n31  369421",
      "text/html": "<div>\n<style scoped>\n    .dataframe tbody tr th:only-of-type {\n        vertical-align: middle;\n    }\n\n    .dataframe tbody tr th {\n        vertical-align: top;\n    }\n\n    .dataframe thead th {\n        text-align: right;\n    }\n</style>\n<table border=\"1\" class=\"dataframe\">\n  <thead>\n    <tr style=\"text-align: right;\">\n      <th></th>\n      <th>demand</th>\n    </tr>\n  </thead>\n  <tbody>\n    <tr>\n      <th>8</th>\n      <td>440992</td>\n    </tr>\n    <tr>\n      <th>14</th>\n      <td>425015</td>\n    </tr>\n    <tr>\n      <th>20</th>\n      <td>473934</td>\n    </tr>\n    <tr>\n      <th>24</th>\n      <td>422032</td>\n    </tr>\n    <tr>\n      <th>31</th>\n      <td>369421</td>\n    </tr>\n  </tbody>\n</table>\n</div>"
     },
     "execution_count": 10,
     "metadata": {},
     "output_type": "execute_result"
    }
   ],
   "source": [
    "y_test.head(5)"
   ]
  },
  {
   "cell_type": "code",
   "execution_count": 11,
   "metadata": {},
   "outputs": [],
   "source": [
    "# re-usable data prep pipeline, avoids having info leaks from test splits in cross-validation\n",
    "# update feature filter if needed\n",
    "cols = ['temperature']\n",
    "\n",
    "# TODO: any other data prep necessary?\n",
    "\n",
    "prepare = Pipeline([\n",
    "    ('impute', SimpleImputer()), # not needed (for this data) but better safe than sorry\n",
    "    ('scale', MinMaxScaler()), # [0..1] (not strictly necessary but should handle outliers better)\n",
    "    # skipping, might have a bit of noise but temps are averaged, so shouldn't be too bad (tests perform well anyway)\n",
    "    #('discretize', KBinsDiscretizer(n_bins=10, encode='ordinal'))\n",
    "])\n",
    "\n",
    "column_trans = ColumnTransformer([\n",
    "    ('prepare', prepare, cols)],\n",
    "    remainder='passthrough', # leave other cols as-is\n",
    "    verbose_feature_names_out=False)"
   ]
  },
  {
   "cell_type": "code",
   "execution_count": 12,
   "metadata": {},
   "outputs": [],
   "source": [
    "kf = RepeatedKFold(n_splits=10, random_state=seed)"
   ]
  },
  {
   "cell_type": "code",
   "execution_count": 13,
   "metadata": {},
   "outputs": [],
   "source": [
    "xgb = XGBRegressor(objective='reg:squarederror', random_state=seed) # default metric\n",
    "\n",
    "xgb_pipeline = Pipeline([\n",
    "    ('data_prep', column_trans),\n",
    "    ('xgb', xgb)\n",
    "]) # data prep defined as pipeline so each CV split is fitted to training split only\n",
    "\n",
    "params = {\n",
    "    # TODO: we could parametrize data prep too and test some combinations\n",
    "    # TODO: check params for search grid\n",
    "    'xgb__learning_rate': [0.05, 0.10, 0.15, 0.20, 0.25, 0.30],\n",
    "    'xgb__max_depth': [3, 4, 5, 6, 8, 10, 12, 15],\n",
    "    'xgb__min_child_weight': [1, 3, 5, 7],\n",
    "    'xgb__gamma': [0.0, 0.1, 0.2 , 0.3, 0.4],\n",
    "    'xgb__colsample_bytree': [0.3, 0.4, 0.5 , 0.7]\n",
    "}"
   ]
  },
  {
   "cell_type": "code",
   "execution_count": 14,
   "metadata": {},
   "outputs": [],
   "source": [
    "# TODO: might want to separate param search from training pipeline?\n",
    "gs_xgb = RandomizedSearchCV(xgb_pipeline,\n",
    "                            random_state=seed,\n",
    "                            param_distributions=params,\n",
    "                            cv=kf,\n",
    "                            verbose=3,\n",
    "                            n_jobs=-1)"
   ]
  },
  {
   "cell_type": "code",
   "execution_count": 15,
   "metadata": {},
   "outputs": [
    {
     "name": "stdout",
     "output_type": "stream",
     "text": [
      "Fitting 100 folds for each of 10 candidates, totalling 1000 fits\n"
     ]
    },
    {
     "data": {
      "text/plain": "RandomizedSearchCV(cv=RepeatedKFold(n_repeats=10, n_splits=10,\n       random_state=RandomState(MT19937) at 0x24A7130FD40),\n                   estimator=Pipeline(steps=[('data_prep',\n                                              ColumnTransformer(remainder='passthrough',\n                                                                transformers=[('prepare',\n                                                                               Pipeline(steps=[('impute',\n                                                                                                SimpleImputer()),\n                                                                                               ('scale',\n                                                                                                MinMaxScaler())]),\n                                                                               ['temperature'])],\n                                                                verbose_feature_names_out=False)),\n                                             ('xgb',\n                                              XGBR...\n                                                           tree_method=None,\n                                                           validate_parameters=None,\n                                                           verbosity=None))]),\n                   n_jobs=-1,\n                   param_distributions={'xgb__colsample_bytree': [0.3, 0.4, 0.5,\n                                                                  0.7],\n                                        'xgb__gamma': [0.0, 0.1, 0.2, 0.3, 0.4],\n                                        'xgb__learning_rate': [0.05, 0.1, 0.15,\n                                                               0.2, 0.25, 0.3],\n                                        'xgb__max_depth': [3, 4, 5, 6, 8, 10,\n                                                           12, 15],\n                                        'xgb__min_child_weight': [1, 3, 5, 7]},\n                   random_state=RandomState(MT19937) at 0x24A7130FD40,\n                   verbose=3)"
     },
     "execution_count": 15,
     "metadata": {},
     "output_type": "execute_result"
    }
   ],
   "source": [
    "gs_xgb.fit(X_train, y_train)"
   ]
  },
  {
   "cell_type": "code",
   "execution_count": 16,
   "metadata": {},
   "outputs": [
    {
     "data": {
      "text/plain": "{'xgb__min_child_weight': 3,\n 'xgb__max_depth': 4,\n 'xgb__learning_rate': 0.1,\n 'xgb__gamma': 0.3,\n 'xgb__colsample_bytree': 0.5}"
     },
     "metadata": {},
     "output_type": "display_data"
    },
    {
     "data": {
      "text/plain": "0.9005307627082153"
     },
     "metadata": {},
     "output_type": "display_data"
    }
   ],
   "source": [
    "display(gs_xgb.best_params_)\n",
    "display(gs_xgb.best_score_)"
   ]
  },
  {
   "cell_type": "code",
   "execution_count": 17,
   "metadata": {},
   "outputs": [],
   "source": [
    "# get best model\n",
    "model = gs_xgb.best_estimator_"
   ]
  },
  {
   "cell_type": "code",
   "execution_count": 18,
   "metadata": {},
   "outputs": [
    {
     "data": {
      "text/plain": "14283.971653005465"
     },
     "metadata": {},
     "output_type": "display_data"
    }
   ],
   "source": [
    "# get predictions for test set to get a performance estimate for unseen data\n",
    "# best model is already re-trained on whole training data! (default for refit=True)\n",
    "y_pred = model.predict(X_test)\n",
    "mean_error = mean_absolute_error(y_test, y_pred)\n",
    "display(mean_error) # MWh"
   ]
  },
  {
   "cell_type": "code",
   "execution_count": 21,
   "metadata": {},
   "outputs": [
    {
     "data": {
      "text/plain": "<Figure size 640x480 with 1 Axes>",
      "image/png": "[encoded data removed]"
     },
     "metadata": {},
     "output_type": "display_data"
    }
   ],
   "source": [
    "pyplot.bar(x=np.arange(len(y_pred)), height=y_pred, label='predicted', alpha=0.7)\n",
    "pyplot.bar(x=np.arange(len(y_pred)), height=y_test['demand'].to_numpy(), label='expected', alpha=0.7)\n",
    "pyplot.legend()\n",
    "pyplot.show() # this representation doesn't make a lot of sense 🤷‍♂️"
   ]
  },
  {
   "cell_type": "code",
   "execution_count": null,
   "metadata": {},
   "outputs": [],
   "source": [
    "# retrain model on whole set\n",
    "#model.fit(X, y) # reminder: \"model\" contains whole pipeline including data prep!\n",
    "\n",
    "# TODO: confusion matrix? <- not applicable (regression, not classification)\n",
    "# TODO: historical record table? <- save real/predicted on batch in a monitoring table, MAE calculated on the fly"
   ]
  },
  {
   "cell_type": "code",
   "execution_count": 22,
   "metadata": {},
   "outputs": [
    {
     "name": "stdout",
     "output_type": "stream",
     "text": [
      "Connected. Call `.close()` to terminate connection gracefully.\n"
     ]
    }
   ],
   "source": [
    "# Store model on hopsworks\n",
    "mr = project.get_model_registry()"
   ]
  },
  {
   "cell_type": "code",
   "execution_count": 23,
   "metadata": {},
   "outputs": [],
   "source": [
    "model_dir = \"model\"\n",
    "if not os.path.isdir(model_dir):\n",
    "    os.mkdir(model_dir)"
   ]
  },
  {
   "cell_type": "code",
   "execution_count": 24,
   "metadata": {},
   "outputs": [
    {
     "data": {
      "text/plain": "['model/ny_elec_model.pkl']"
     },
     "execution_count": 24,
     "metadata": {},
     "output_type": "execute_result"
    }
   ],
   "source": [
    "joblib.dump(model, model_dir + \"/ny_elec_model.pkl\")"
   ]
  },
  {
   "cell_type": "code",
   "execution_count": 25,
   "metadata": {},
   "outputs": [],
   "source": [
    "# Specify the schema of the model's input/output using the features (X_train) and labels (y_train)\n",
    "input_schema = Schema(X_train)\n",
    "output_schema = Schema(y_train)\n",
    "model_schema = ModelSchema(input_schema, output_schema)"
   ]
  },
  {
   "cell_type": "code",
   "execution_count": 26,
   "metadata": {},
   "outputs": [],
   "source": [
    "# Create an entry in the model registry that includes the model's name, desc, metrics\n",
    "ny_elec_model = mr.python.create_model(\n",
    "    name=\"ny_elec_model\",\n",
    "    metrics={\"mean_absolute_error\": mean_error},\n",
    "    model_schema=model_schema,\n",
    "    description=\"NY Electricity Demand Predictor\"\n",
    ")"
   ]
  },
  {
   "cell_type": "code",
   "execution_count": 27,
   "metadata": {},
   "outputs": [
    {
     "data": {
      "text/plain": "  0%|          | 0/6 [00:00<?, ?it/s]",
      "application/vnd.jupyter.widget-view+json": {
       "version_major": 2,
       "version_minor": 0,
       "model_id": "a6e194bac53a4cba83e825920c929866"
      }
     },
     "metadata": {},
     "output_type": "display_data"
    },
    {
     "name": "stdout",
     "output_type": "stream",
     "text": [
      "Model created, explore it at https://c.app.hopsworks.ai:443/p/5300/models/ny_elec_model/1\n"
     ]
    },
    {
     "data": {
      "text/plain": "Model(name: 'ny_elec_model', version: 1)"
     },
     "execution_count": 27,
     "metadata": {},
     "output_type": "execute_result"
    }
   ],
   "source": [
    "# Upload to hopsworks\n",
    "ny_elec_model.save(model_dir)"
   ]
  }
 ],
 "metadata": {
  "kernelspec": {
   "display_name": "venv_serverless-ml-intro",
   "language": "python",
   "name": "python3"
  },
  "language_info": {
   "codemirror_mode": {
    "name": "ipython",
    "version": 3
   },
   "file_extension": ".py",
   "mimetype": "text/x-python",
   "name": "python",
   "nbconvert_exporter": "python",
   "pygments_lexer": "ipython3",
   "version": "3.8.13"
  },
  "orig_nbformat": 4,
  "vscode": {
   "interpreter": {
    "hash": "a77259d763ed14faa3a356df3922fe1abc599c7258231b33490f150f6caa86a3"
   }
  }
 },
 "nbformat": 4,
 "nbformat_minor": 2
}
